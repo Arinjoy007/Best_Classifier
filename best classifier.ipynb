{
    "cells": [
        {
            "cell_type": "markdown",
            "metadata": {
                "button": false,
                "new_sheet": false,
                "run_control": {
                    "read_only": false
                }
            },
            "source": "<a href=\"https://www.bigdatauniversity.com\"><img src=\"https://ibm.box.com/shared/static/cw2c7r3o20w9zn8gkecaeyjhgw3xdgbj.png\" width=\"400\" align=\"center\"></a>\n\n<h1 align=\"center\"><font size=\"5\">Classification with Python</font></h1>"
        },
        {
            "cell_type": "markdown",
            "metadata": {
                "button": false,
                "new_sheet": false,
                "run_control": {
                    "read_only": false
                }
            },
            "source": "In this notebook we try to practice all the classification algorithms that we learned in this course.\n\nWe load a dataset using Pandas library, and apply the following algorithms, and find the best one for this specific dataset by accuracy evaluation methods.\n\nLets first load required libraries:"
        },
        {
            "cell_type": "code",
            "execution_count": 1,
            "metadata": {
                "button": false,
                "new_sheet": false,
                "run_control": {
                    "read_only": false
                }
            },
            "outputs": [],
            "source": "import itertools\nimport numpy as np\nimport matplotlib.pyplot as plt\nfrom matplotlib.ticker import NullFormatter\nimport pandas as pd\nimport numpy as np\nimport matplotlib.ticker as ticker\nfrom sklearn import preprocessing\n%matplotlib inline"
        },
        {
            "cell_type": "markdown",
            "metadata": {
                "button": false,
                "new_sheet": false,
                "run_control": {
                    "read_only": false
                }
            },
            "source": "### About dataset"
        },
        {
            "cell_type": "markdown",
            "metadata": {
                "button": false,
                "new_sheet": false,
                "run_control": {
                    "read_only": false
                }
            },
            "source": "This dataset is about past loans. The __Loan_train.csv__ data set includes details of 346 customers whose loan are already paid off or defaulted. It includes following fields:\n\n| Field          | Description                                                                           |\n|----------------|---------------------------------------------------------------------------------------|\n| Loan_status    | Whether a loan is paid off on in collection                                           |\n| Principal      | Basic principal loan amount at the                                                    |\n| Terms          | Origination terms which can be weekly (7 days), biweekly, and monthly payoff schedule |\n| Effective_date | When the loan got originated and took effects                                         |\n| Due_date       | Since it\u2019s one-time payoff schedule, each loan has one single due date                |\n| Age            | Age of applicant                                                                      |\n| Education      | Education of applicant                                                                |\n| Gender         | The gender of applicant                                                               |"
        },
        {
            "cell_type": "markdown",
            "metadata": {
                "button": false,
                "new_sheet": false,
                "run_control": {
                    "read_only": false
                }
            },
            "source": "Lets download the dataset"
        },
        {
            "cell_type": "code",
            "execution_count": 2,
            "metadata": {
                "button": false,
                "new_sheet": false,
                "run_control": {
                    "read_only": false
                }
            },
            "outputs": [
                {
                    "name": "stdout",
                    "output_type": "stream",
                    "text": "--2020-07-01 16:43:43--  https://s3-api.us-geo.objectstorage.softlayer.net/cf-courses-data/CognitiveClass/ML0101ENv3/labs/loan_train.csv\nResolving s3-api.us-geo.objectstorage.softlayer.net (s3-api.us-geo.objectstorage.softlayer.net)... 67.228.254.196\nConnecting to s3-api.us-geo.objectstorage.softlayer.net (s3-api.us-geo.objectstorage.softlayer.net)|67.228.254.196|:443... connected.\nHTTP request sent, awaiting response... 200 OK\nLength: 23101 (23K) [text/csv]\nSaving to: \u2018loan_train.csv\u2019\n\n100%[======================================>] 23,101      --.-K/s   in 0.07s   \n\n2020-07-01 16:43:43 (305 KB/s) - \u2018loan_train.csv\u2019 saved [23101/23101]\n\n"
                }
            ],
            "source": "!wget -O loan_train.csv https://s3-api.us-geo.objectstorage.softlayer.net/cf-courses-data/CognitiveClass/ML0101ENv3/labs/loan_train.csv"
        },
        {
            "cell_type": "markdown",
            "metadata": {
                "button": false,
                "new_sheet": false,
                "run_control": {
                    "read_only": false
                }
            },
            "source": "### Load Data From CSV File  "
        },
        {
            "cell_type": "code",
            "execution_count": 3,
            "metadata": {
                "button": false,
                "new_sheet": false,
                "run_control": {
                    "read_only": false
                }
            },
            "outputs": [
                {
                    "data": {
                        "text/html": "<div>\n<style scoped>\n    .dataframe tbody tr th:only-of-type {\n        vertical-align: middle;\n    }\n\n    .dataframe tbody tr th {\n        vertical-align: top;\n    }\n\n    .dataframe thead th {\n        text-align: right;\n    }\n</style>\n<table border=\"1\" class=\"dataframe\">\n  <thead>\n    <tr style=\"text-align: right;\">\n      <th></th>\n      <th>Unnamed: 0</th>\n      <th>Unnamed: 0.1</th>\n      <th>loan_status</th>\n      <th>Principal</th>\n      <th>terms</th>\n      <th>effective_date</th>\n      <th>due_date</th>\n      <th>age</th>\n      <th>education</th>\n      <th>Gender</th>\n    </tr>\n  </thead>\n  <tbody>\n    <tr>\n      <th>0</th>\n      <td>0</td>\n      <td>0</td>\n      <td>PAIDOFF</td>\n      <td>1000</td>\n      <td>30</td>\n      <td>9/8/2016</td>\n      <td>10/7/2016</td>\n      <td>45</td>\n      <td>High School or Below</td>\n      <td>male</td>\n    </tr>\n    <tr>\n      <th>1</th>\n      <td>2</td>\n      <td>2</td>\n      <td>PAIDOFF</td>\n      <td>1000</td>\n      <td>30</td>\n      <td>9/8/2016</td>\n      <td>10/7/2016</td>\n      <td>33</td>\n      <td>Bechalor</td>\n      <td>female</td>\n    </tr>\n    <tr>\n      <th>2</th>\n      <td>3</td>\n      <td>3</td>\n      <td>PAIDOFF</td>\n      <td>1000</td>\n      <td>15</td>\n      <td>9/8/2016</td>\n      <td>9/22/2016</td>\n      <td>27</td>\n      <td>college</td>\n      <td>male</td>\n    </tr>\n    <tr>\n      <th>3</th>\n      <td>4</td>\n      <td>4</td>\n      <td>PAIDOFF</td>\n      <td>1000</td>\n      <td>30</td>\n      <td>9/9/2016</td>\n      <td>10/8/2016</td>\n      <td>28</td>\n      <td>college</td>\n      <td>female</td>\n    </tr>\n    <tr>\n      <th>4</th>\n      <td>6</td>\n      <td>6</td>\n      <td>PAIDOFF</td>\n      <td>1000</td>\n      <td>30</td>\n      <td>9/9/2016</td>\n      <td>10/8/2016</td>\n      <td>29</td>\n      <td>college</td>\n      <td>male</td>\n    </tr>\n  </tbody>\n</table>\n</div>",
                        "text/plain": "   Unnamed: 0  Unnamed: 0.1 loan_status  Principal  terms effective_date  \\\n0           0             0     PAIDOFF       1000     30       9/8/2016   \n1           2             2     PAIDOFF       1000     30       9/8/2016   \n2           3             3     PAIDOFF       1000     15       9/8/2016   \n3           4             4     PAIDOFF       1000     30       9/9/2016   \n4           6             6     PAIDOFF       1000     30       9/9/2016   \n\n    due_date  age             education  Gender  \n0  10/7/2016   45  High School or Below    male  \n1  10/7/2016   33              Bechalor  female  \n2  9/22/2016   27               college    male  \n3  10/8/2016   28               college  female  \n4  10/8/2016   29               college    male  "
                    },
                    "execution_count": 3,
                    "metadata": {},
                    "output_type": "execute_result"
                }
            ],
            "source": "df = pd.read_csv('loan_train.csv')\ndf.head()"
        },
        {
            "cell_type": "code",
            "execution_count": 4,
            "metadata": {},
            "outputs": [
                {
                    "data": {
                        "text/plain": "(346, 10)"
                    },
                    "execution_count": 4,
                    "metadata": {},
                    "output_type": "execute_result"
                }
            ],
            "source": "df.shape"
        },
        {
            "cell_type": "markdown",
            "metadata": {
                "button": false,
                "new_sheet": false,
                "run_control": {
                    "read_only": false
                }
            },
            "source": "### Convert to date time object "
        },
        {
            "cell_type": "code",
            "execution_count": 5,
            "metadata": {
                "button": false,
                "new_sheet": false,
                "run_control": {
                    "read_only": false
                },
                "scrolled": false
            },
            "outputs": [
                {
                    "data": {
                        "text/html": "<div>\n<style scoped>\n    .dataframe tbody tr th:only-of-type {\n        vertical-align: middle;\n    }\n\n    .dataframe tbody tr th {\n        vertical-align: top;\n    }\n\n    .dataframe thead th {\n        text-align: right;\n    }\n</style>\n<table border=\"1\" class=\"dataframe\">\n  <thead>\n    <tr style=\"text-align: right;\">\n      <th></th>\n      <th>Unnamed: 0</th>\n      <th>Unnamed: 0.1</th>\n      <th>loan_status</th>\n      <th>Principal</th>\n      <th>terms</th>\n      <th>effective_date</th>\n      <th>due_date</th>\n      <th>age</th>\n      <th>education</th>\n      <th>Gender</th>\n    </tr>\n  </thead>\n  <tbody>\n    <tr>\n      <th>0</th>\n      <td>0</td>\n      <td>0</td>\n      <td>PAIDOFF</td>\n      <td>1000</td>\n      <td>30</td>\n      <td>2016-09-08</td>\n      <td>2016-10-07</td>\n      <td>45</td>\n      <td>High School or Below</td>\n      <td>male</td>\n    </tr>\n    <tr>\n      <th>1</th>\n      <td>2</td>\n      <td>2</td>\n      <td>PAIDOFF</td>\n      <td>1000</td>\n      <td>30</td>\n      <td>2016-09-08</td>\n      <td>2016-10-07</td>\n      <td>33</td>\n      <td>Bechalor</td>\n      <td>female</td>\n    </tr>\n    <tr>\n      <th>2</th>\n      <td>3</td>\n      <td>3</td>\n      <td>PAIDOFF</td>\n      <td>1000</td>\n      <td>15</td>\n      <td>2016-09-08</td>\n      <td>2016-09-22</td>\n      <td>27</td>\n      <td>college</td>\n      <td>male</td>\n    </tr>\n    <tr>\n      <th>3</th>\n      <td>4</td>\n      <td>4</td>\n      <td>PAIDOFF</td>\n      <td>1000</td>\n      <td>30</td>\n      <td>2016-09-09</td>\n      <td>2016-10-08</td>\n      <td>28</td>\n      <td>college</td>\n      <td>female</td>\n    </tr>\n    <tr>\n      <th>4</th>\n      <td>6</td>\n      <td>6</td>\n      <td>PAIDOFF</td>\n      <td>1000</td>\n      <td>30</td>\n      <td>2016-09-09</td>\n      <td>2016-10-08</td>\n      <td>29</td>\n      <td>college</td>\n      <td>male</td>\n    </tr>\n  </tbody>\n</table>\n</div>",
                        "text/plain": "   Unnamed: 0  Unnamed: 0.1 loan_status  Principal  terms effective_date  \\\n0           0             0     PAIDOFF       1000     30     2016-09-08   \n1           2             2     PAIDOFF       1000     30     2016-09-08   \n2           3             3     PAIDOFF       1000     15     2016-09-08   \n3           4             4     PAIDOFF       1000     30     2016-09-09   \n4           6             6     PAIDOFF       1000     30     2016-09-09   \n\n    due_date  age             education  Gender  \n0 2016-10-07   45  High School or Below    male  \n1 2016-10-07   33              Bechalor  female  \n2 2016-09-22   27               college    male  \n3 2016-10-08   28               college  female  \n4 2016-10-08   29               college    male  "
                    },
                    "execution_count": 5,
                    "metadata": {},
                    "output_type": "execute_result"
                }
            ],
            "source": "df['due_date'] = pd.to_datetime(df['due_date'])\ndf['effective_date'] = pd.to_datetime(df['effective_date'])\ndf.head()"
        },
        {
            "cell_type": "markdown",
            "metadata": {
                "button": false,
                "new_sheet": false,
                "run_control": {
                    "read_only": false
                }
            },
            "source": "# Data visualization and pre-processing\n\n"
        },
        {
            "cell_type": "markdown",
            "metadata": {
                "button": false,
                "new_sheet": false,
                "run_control": {
                    "read_only": false
                }
            },
            "source": "Let\u2019s see how many of each class is in our data set "
        },
        {
            "cell_type": "code",
            "execution_count": 6,
            "metadata": {
                "button": false,
                "new_sheet": false,
                "run_control": {
                    "read_only": false
                }
            },
            "outputs": [
                {
                    "data": {
                        "text/plain": "PAIDOFF       260\nCOLLECTION     86\nName: loan_status, dtype: int64"
                    },
                    "execution_count": 6,
                    "metadata": {},
                    "output_type": "execute_result"
                }
            ],
            "source": "df['loan_status'].value_counts()"
        },
        {
            "cell_type": "markdown",
            "metadata": {
                "button": false,
                "new_sheet": false,
                "run_control": {
                    "read_only": false
                }
            },
            "source": "260 people have paid off the loan on time while 86 have gone into collection \n"
        },
        {
            "cell_type": "markdown",
            "metadata": {},
            "source": "Lets plot some columns to underestand data better:"
        },
        {
            "cell_type": "code",
            "execution_count": 7,
            "metadata": {
                "scrolled": false
            },
            "outputs": [
                {
                    "name": "stdout",
                    "output_type": "stream",
                    "text": "Solving environment: done\n\n# All requested packages already installed.\n\n"
                }
            ],
            "source": "# notice: installing seaborn might takes a few minutes\n!conda install -c anaconda seaborn -y"
        },
        {
            "cell_type": "code",
            "execution_count": 8,
            "metadata": {},
            "outputs": [
                {
                    "data": {
                        "image/png": "[encoded data removed]",
                        "text/plain": "<Figure size 432x216 with 2 Axes>"
                    },
                    "metadata": {
                        "needs_background": "light"
                    },
                    "output_type": "display_data"
                }
            ],
            "source": "import seaborn as sns\n\nbins = np.linspace(df.Principal.min(), df.Principal.max(), 10)\ng = sns.FacetGrid(df, col=\"Gender\", hue=\"loan_status\", palette=\"Set1\", col_wrap=2)\ng.map(plt.hist, 'Principal', bins=bins, ec=\"k\")\n\ng.axes[-1].legend()\nplt.show()"
        },
        {
            "cell_type": "code",
            "execution_count": 9,
            "metadata": {
                "button": false,
                "new_sheet": false,
                "run_control": {
                    "read_only": false
                }
            },
            "outputs": [
                {
                    "data": {
                        "image/png": "[encoded data removed]",
                        "text/plain": "<Figure size 432x216 with 2 Axes>"
                    },
                    "metadata": {
                        "needs_background": "light"
                    },
                    "output_type": "display_data"
                }
            ],
            "source": "bins = np.linspace(df.age.min(), df.age.max(), 10)\ng = sns.FacetGrid(df, col=\"Gender\", hue=\"loan_status\", palette=\"Set1\", col_wrap=2)\ng.map(plt.hist, 'age', bins=bins, ec=\"k\")\n\ng.axes[-1].legend()\nplt.show()"
        },
        {
            "cell_type": "markdown",
            "metadata": {
                "button": false,
                "new_sheet": false,
                "run_control": {
                    "read_only": false
                }
            },
            "source": "# Pre-processing:  Feature selection/extraction"
        },
        {
            "cell_type": "markdown",
            "metadata": {
                "button": false,
                "new_sheet": false,
                "run_control": {
                    "read_only": false
                }
            },
            "source": "### Lets look at the day of the week people get the loan "
        },
        {
            "cell_type": "code",
            "execution_count": 10,
            "metadata": {
                "button": false,
                "new_sheet": false,
                "run_control": {
                    "read_only": false
                }
            },
            "outputs": [
                {
                    "data": {
                        "image/png": "[encoded data removed]",
                        "text/plain": "<Figure size 432x216 with 2 Axes>"
                    },
                    "metadata": {
                        "needs_background": "light"
                    },
                    "output_type": "display_data"
                }
            ],
            "source": "df['dayofweek'] = df['effective_date'].dt.dayofweek\nbins = np.linspace(df.dayofweek.min(), df.dayofweek.max(), 10)\ng = sns.FacetGrid(df, col=\"Gender\", hue=\"loan_status\", palette=\"Set1\", col_wrap=2)\ng.map(plt.hist, 'dayofweek', bins=bins, ec=\"k\")\ng.axes[-1].legend()\nplt.show()\n"
        },
        {
            "cell_type": "markdown",
            "metadata": {
                "button": false,
                "new_sheet": false,
                "run_control": {
                    "read_only": false
                }
            },
            "source": "We see that people who get the loan at the end of the week dont pay it off, so lets use Feature binarization to set a threshold values less then day 4 "
        },
        {
            "cell_type": "code",
            "execution_count": 11,
            "metadata": {
                "button": false,
                "new_sheet": false,
                "run_control": {
                    "read_only": false
                }
            },
            "outputs": [
                {
                    "data": {
                        "text/html": "<div>\n<style scoped>\n    .dataframe tbody tr th:only-of-type {\n        vertical-align: middle;\n    }\n\n    .dataframe tbody tr th {\n        vertical-align: top;\n    }\n\n    .dataframe thead th {\n        text-align: right;\n    }\n</style>\n<table border=\"1\" class=\"dataframe\">\n  <thead>\n    <tr style=\"text-align: right;\">\n      <th></th>\n      <th>Unnamed: 0</th>\n      <th>Unnamed: 0.1</th>\n      <th>loan_status</th>\n      <th>Principal</th>\n      <th>terms</th>\n      <th>effective_date</th>\n      <th>due_date</th>\n      <th>age</th>\n      <th>education</th>\n      <th>Gender</th>\n      <th>dayofweek</th>\n      <th>weekend</th>\n    </tr>\n  </thead>\n  <tbody>\n    <tr>\n      <th>0</th>\n      <td>0</td>\n      <td>0</td>\n      <td>PAIDOFF</td>\n      <td>1000</td>\n      <td>30</td>\n      <td>2016-09-08</td>\n      <td>2016-10-07</td>\n      <td>45</td>\n      <td>High School or Below</td>\n      <td>male</td>\n      <td>3</td>\n      <td>0</td>\n    </tr>\n    <tr>\n      <th>1</th>\n      <td>2</td>\n      <td>2</td>\n      <td>PAIDOFF</td>\n      <td>1000</td>\n      <td>30</td>\n      <td>2016-09-08</td>\n      <td>2016-10-07</td>\n      <td>33</td>\n      <td>Bechalor</td>\n      <td>female</td>\n      <td>3</td>\n      <td>0</td>\n    </tr>\n    <tr>\n      <th>2</th>\n      <td>3</td>\n      <td>3</td>\n      <td>PAIDOFF</td>\n      <td>1000</td>\n      <td>15</td>\n      <td>2016-09-08</td>\n      <td>2016-09-22</td>\n      <td>27</td>\n      <td>college</td>\n      <td>male</td>\n      <td>3</td>\n      <td>0</td>\n    </tr>\n    <tr>\n      <th>3</th>\n      <td>4</td>\n      <td>4</td>\n      <td>PAIDOFF</td>\n      <td>1000</td>\n      <td>30</td>\n      <td>2016-09-09</td>\n      <td>2016-10-08</td>\n      <td>28</td>\n      <td>college</td>\n      <td>female</td>\n      <td>4</td>\n      <td>0</td>\n    </tr>\n    <tr>\n      <th>4</th>\n      <td>6</td>\n      <td>6</td>\n      <td>PAIDOFF</td>\n      <td>1000</td>\n      <td>30</td>\n      <td>2016-09-09</td>\n      <td>2016-10-08</td>\n      <td>29</td>\n      <td>college</td>\n      <td>male</td>\n      <td>4</td>\n      <td>0</td>\n    </tr>\n  </tbody>\n</table>\n</div>",
                        "text/plain": "   Unnamed: 0  Unnamed: 0.1 loan_status  Principal  terms effective_date  \\\n0           0             0     PAIDOFF       1000     30     2016-09-08   \n1           2             2     PAIDOFF       1000     30     2016-09-08   \n2           3             3     PAIDOFF       1000     15     2016-09-08   \n3           4             4     PAIDOFF       1000     30     2016-09-09   \n4           6             6     PAIDOFF       1000     30     2016-09-09   \n\n    due_date  age             education  Gender  dayofweek  weekend  \n0 2016-10-07   45  High School or Below    male          3        0  \n1 2016-10-07   33              Bechalor  female          3        0  \n2 2016-09-22   27               college    male          3        0  \n3 2016-10-08   28               college  female          4        0  \n4 2016-10-08   29               college    male          4        0  "
                    },
                    "execution_count": 11,
                    "metadata": {},
                    "output_type": "execute_result"
                }
            ],
            "source": "df['weekend'] = df['dayofweek'].apply(lambda x: 1 if (x>4)  else 0)\ndf.head()"
        },
        {
            "cell_type": "markdown",
            "metadata": {
                "button": false,
                "new_sheet": false,
                "run_control": {
                    "read_only": false
                }
            },
            "source": "## Convert Categorical features to numerical values"
        },
        {
            "cell_type": "markdown",
            "metadata": {
                "button": false,
                "new_sheet": false,
                "run_control": {
                    "read_only": false
                }
            },
            "source": "Lets look at gender:"
        },
        {
            "cell_type": "code",
            "execution_count": 12,
            "metadata": {
                "button": false,
                "new_sheet": false,
                "run_control": {
                    "read_only": false
                }
            },
            "outputs": [
                {
                    "data": {
                        "text/plain": "Gender  loan_status\nfemale  PAIDOFF        0.865385\n        COLLECTION     0.134615\nmale    PAIDOFF        0.731293\n        COLLECTION     0.268707\nName: loan_status, dtype: float64"
                    },
                    "execution_count": 12,
                    "metadata": {},
                    "output_type": "execute_result"
                }
            ],
            "source": "df.groupby(['Gender'])['loan_status'].value_counts(normalize=True)"
        },
        {
            "cell_type": "markdown",
            "metadata": {
                "button": false,
                "new_sheet": false,
                "run_control": {
                    "read_only": false
                }
            },
            "source": "86 % of female pay there loans while only 73 % of males pay there loan\n"
        },
        {
            "cell_type": "markdown",
            "metadata": {
                "button": false,
                "new_sheet": false,
                "run_control": {
                    "read_only": false
                }
            },
            "source": "Lets convert male to 0 and female to 1:\n"
        },
        {
            "cell_type": "code",
            "execution_count": 13,
            "metadata": {
                "button": false,
                "new_sheet": false,
                "run_control": {
                    "read_only": false
                }
            },
            "outputs": [
                {
                    "data": {
                        "text/html": "<div>\n<style scoped>\n    .dataframe tbody tr th:only-of-type {\n        vertical-align: middle;\n    }\n\n    .dataframe tbody tr th {\n        vertical-align: top;\n    }\n\n    .dataframe thead th {\n        text-align: right;\n    }\n</style>\n<table border=\"1\" class=\"dataframe\">\n  <thead>\n    <tr style=\"text-align: right;\">\n      <th></th>\n      <th>Unnamed: 0</th>\n      <th>Unnamed: 0.1</th>\n      <th>loan_status</th>\n      <th>Principal</th>\n      <th>terms</th>\n      <th>effective_date</th>\n      <th>due_date</th>\n      <th>age</th>\n      <th>education</th>\n      <th>Gender</th>\n      <th>dayofweek</th>\n      <th>weekend</th>\n    </tr>\n  </thead>\n  <tbody>\n    <tr>\n      <th>0</th>\n      <td>0</td>\n      <td>0</td>\n      <td>PAIDOFF</td>\n      <td>1000</td>\n      <td>30</td>\n      <td>2016-09-08</td>\n      <td>2016-10-07</td>\n      <td>45</td>\n      <td>High School or Below</td>\n      <td>0</td>\n      <td>3</td>\n      <td>0</td>\n    </tr>\n    <tr>\n      <th>1</th>\n      <td>2</td>\n      <td>2</td>\n      <td>PAIDOFF</td>\n      <td>1000</td>\n      <td>30</td>\n      <td>2016-09-08</td>\n      <td>2016-10-07</td>\n      <td>33</td>\n      <td>Bechalor</td>\n      <td>1</td>\n      <td>3</td>\n      <td>0</td>\n    </tr>\n    <tr>\n      <th>2</th>\n      <td>3</td>\n      <td>3</td>\n      <td>PAIDOFF</td>\n      <td>1000</td>\n      <td>15</td>\n      <td>2016-09-08</td>\n      <td>2016-09-22</td>\n      <td>27</td>\n      <td>college</td>\n      <td>0</td>\n      <td>3</td>\n      <td>0</td>\n    </tr>\n    <tr>\n      <th>3</th>\n      <td>4</td>\n      <td>4</td>\n      <td>PAIDOFF</td>\n      <td>1000</td>\n      <td>30</td>\n      <td>2016-09-09</td>\n      <td>2016-10-08</td>\n      <td>28</td>\n      <td>college</td>\n      <td>1</td>\n      <td>4</td>\n      <td>0</td>\n    </tr>\n    <tr>\n      <th>4</th>\n      <td>6</td>\n      <td>6</td>\n      <td>PAIDOFF</td>\n      <td>1000</td>\n      <td>30</td>\n      <td>2016-09-09</td>\n      <td>2016-10-08</td>\n      <td>29</td>\n      <td>college</td>\n      <td>0</td>\n      <td>4</td>\n      <td>0</td>\n    </tr>\n  </tbody>\n</table>\n</div>",
                        "text/plain": "   Unnamed: 0  Unnamed: 0.1 loan_status  Principal  terms effective_date  \\\n0           0             0     PAIDOFF       1000     30     2016-09-08   \n1           2             2     PAIDOFF       1000     30     2016-09-08   \n2           3             3     PAIDOFF       1000     15     2016-09-08   \n3           4             4     PAIDOFF       1000     30     2016-09-09   \n4           6             6     PAIDOFF       1000     30     2016-09-09   \n\n    due_date  age             education  Gender  dayofweek  weekend  \n0 2016-10-07   45  High School or Below       0          3        0  \n1 2016-10-07   33              Bechalor       1          3        0  \n2 2016-09-22   27               college       0          3        0  \n3 2016-10-08   28               college       1          4        0  \n4 2016-10-08   29               college       0          4        0  "
                    },
                    "execution_count": 13,
                    "metadata": {},
                    "output_type": "execute_result"
                }
            ],
            "source": "df['Gender'].replace(to_replace=['male','female'], value=[0,1],inplace=True)\ndf.head()"
        },
        {
            "cell_type": "markdown",
            "metadata": {
                "button": false,
                "new_sheet": false,
                "run_control": {
                    "read_only": false
                }
            },
            "source": "## One Hot Encoding  \n#### How about education?"
        },
        {
            "cell_type": "code",
            "execution_count": 14,
            "metadata": {
                "button": false,
                "new_sheet": false,
                "run_control": {
                    "read_only": false
                }
            },
            "outputs": [
                {
                    "data": {
                        "text/plain": "education             loan_status\nBechalor              PAIDOFF        0.750000\n                      COLLECTION     0.250000\nHigh School or Below  PAIDOFF        0.741722\n                      COLLECTION     0.258278\nMaster or Above       COLLECTION     0.500000\n                      PAIDOFF        0.500000\ncollege               PAIDOFF        0.765101\n                      COLLECTION     0.234899\nName: loan_status, dtype: float64"
                    },
                    "execution_count": 14,
                    "metadata": {},
                    "output_type": "execute_result"
                }
            ],
            "source": "df.groupby(['education'])['loan_status'].value_counts(normalize=True)"
        },
        {
            "cell_type": "markdown",
            "metadata": {
                "button": false,
                "new_sheet": false,
                "run_control": {
                    "read_only": false
                }
            },
            "source": "#### Feature befor One Hot Encoding"
        },
        {
            "cell_type": "code",
            "execution_count": 15,
            "metadata": {
                "button": false,
                "new_sheet": false,
                "run_control": {
                    "read_only": false
                }
            },
            "outputs": [
                {
                    "data": {
                        "text/html": "<div>\n<style scoped>\n    .dataframe tbody tr th:only-of-type {\n        vertical-align: middle;\n    }\n\n    .dataframe tbody tr th {\n        vertical-align: top;\n    }\n\n    .dataframe thead th {\n        text-align: right;\n    }\n</style>\n<table border=\"1\" class=\"dataframe\">\n  <thead>\n    <tr style=\"text-align: right;\">\n      <th></th>\n      <th>Principal</th>\n      <th>terms</th>\n      <th>age</th>\n      <th>Gender</th>\n      <th>education</th>\n    </tr>\n  </thead>\n  <tbody>\n    <tr>\n      <th>0</th>\n      <td>1000</td>\n      <td>30</td>\n      <td>45</td>\n      <td>0</td>\n      <td>High School or Below</td>\n    </tr>\n    <tr>\n      <th>1</th>\n      <td>1000</td>\n      <td>30</td>\n      <td>33</td>\n      <td>1</td>\n      <td>Bechalor</td>\n    </tr>\n    <tr>\n      <th>2</th>\n      <td>1000</td>\n      <td>15</td>\n      <td>27</td>\n      <td>0</td>\n      <td>college</td>\n    </tr>\n    <tr>\n      <th>3</th>\n      <td>1000</td>\n      <td>30</td>\n      <td>28</td>\n      <td>1</td>\n      <td>college</td>\n    </tr>\n    <tr>\n      <th>4</th>\n      <td>1000</td>\n      <td>30</td>\n      <td>29</td>\n      <td>0</td>\n      <td>college</td>\n    </tr>\n  </tbody>\n</table>\n</div>",
                        "text/plain": "   Principal  terms  age  Gender             education\n0       1000     30   45       0  High School or Below\n1       1000     30   33       1              Bechalor\n2       1000     15   27       0               college\n3       1000     30   28       1               college\n4       1000     30   29       0               college"
                    },
                    "execution_count": 15,
                    "metadata": {},
                    "output_type": "execute_result"
                }
            ],
            "source": "df[['Principal','terms','age','Gender','education']].head()"
        },
        {
            "cell_type": "markdown",
            "metadata": {
                "button": false,
                "new_sheet": false,
                "run_control": {
                    "read_only": false
                }
            },
            "source": "#### Use one hot encoding technique to conver categorical varables to binary variables and append them to the feature Data Frame "
        },
        {
            "cell_type": "code",
            "execution_count": 16,
            "metadata": {
                "button": false,
                "new_sheet": false,
                "run_control": {
                    "read_only": false
                }
            },
            "outputs": [
                {
                    "data": {
                        "text/html": "<div>\n<style scoped>\n    .dataframe tbody tr th:only-of-type {\n        vertical-align: middle;\n    }\n\n    .dataframe tbody tr th {\n        vertical-align: top;\n    }\n\n    .dataframe thead th {\n        text-align: right;\n    }\n</style>\n<table border=\"1\" class=\"dataframe\">\n  <thead>\n    <tr style=\"text-align: right;\">\n      <th></th>\n      <th>Principal</th>\n      <th>terms</th>\n      <th>age</th>\n      <th>Gender</th>\n      <th>weekend</th>\n      <th>Bechalor</th>\n      <th>High School or Below</th>\n      <th>college</th>\n    </tr>\n  </thead>\n  <tbody>\n    <tr>\n      <th>0</th>\n      <td>1000</td>\n      <td>30</td>\n      <td>45</td>\n      <td>0</td>\n      <td>0</td>\n      <td>0</td>\n      <td>1</td>\n      <td>0</td>\n    </tr>\n    <tr>\n      <th>1</th>\n      <td>1000</td>\n      <td>30</td>\n      <td>33</td>\n      <td>1</td>\n      <td>0</td>\n      <td>1</td>\n      <td>0</td>\n      <td>0</td>\n    </tr>\n    <tr>\n      <th>2</th>\n      <td>1000</td>\n      <td>15</td>\n      <td>27</td>\n      <td>0</td>\n      <td>0</td>\n      <td>0</td>\n      <td>0</td>\n      <td>1</td>\n    </tr>\n    <tr>\n      <th>3</th>\n      <td>1000</td>\n      <td>30</td>\n      <td>28</td>\n      <td>1</td>\n      <td>0</td>\n      <td>0</td>\n      <td>0</td>\n      <td>1</td>\n    </tr>\n    <tr>\n      <th>4</th>\n      <td>1000</td>\n      <td>30</td>\n      <td>29</td>\n      <td>0</td>\n      <td>0</td>\n      <td>0</td>\n      <td>0</td>\n      <td>1</td>\n    </tr>\n  </tbody>\n</table>\n</div>",
                        "text/plain": "   Principal  terms  age  Gender  weekend  Bechalor  High School or Below  \\\n0       1000     30   45       0        0         0                     1   \n1       1000     30   33       1        0         1                     0   \n2       1000     15   27       0        0         0                     0   \n3       1000     30   28       1        0         0                     0   \n4       1000     30   29       0        0         0                     0   \n\n   college  \n0        0  \n1        0  \n2        1  \n3        1  \n4        1  "
                    },
                    "execution_count": 16,
                    "metadata": {},
                    "output_type": "execute_result"
                }
            ],
            "source": "Feature = df[['Principal','terms','age','Gender','weekend']]\nFeature = pd.concat([Feature,pd.get_dummies(df['education'])], axis=1)\nFeature.drop(['Master or Above'], axis = 1,inplace=True)\nFeature.head()\n"
        },
        {
            "cell_type": "markdown",
            "metadata": {
                "button": false,
                "new_sheet": false,
                "run_control": {
                    "read_only": false
                }
            },
            "source": "### Feature selection"
        },
        {
            "cell_type": "markdown",
            "metadata": {
                "button": false,
                "new_sheet": false,
                "run_control": {
                    "read_only": false
                }
            },
            "source": "Lets defind feature sets, X:"
        },
        {
            "cell_type": "code",
            "execution_count": 17,
            "metadata": {
                "button": false,
                "new_sheet": false,
                "run_control": {
                    "read_only": false
                }
            },
            "outputs": [
                {
                    "data": {
                        "text/html": "<div>\n<style scoped>\n    .dataframe tbody tr th:only-of-type {\n        vertical-align: middle;\n    }\n\n    .dataframe tbody tr th {\n        vertical-align: top;\n    }\n\n    .dataframe thead th {\n        text-align: right;\n    }\n</style>\n<table border=\"1\" class=\"dataframe\">\n  <thead>\n    <tr style=\"text-align: right;\">\n      <th></th>\n      <th>Principal</th>\n      <th>terms</th>\n      <th>age</th>\n      <th>Gender</th>\n      <th>weekend</th>\n      <th>Bechalor</th>\n      <th>High School or Below</th>\n      <th>college</th>\n    </tr>\n  </thead>\n  <tbody>\n    <tr>\n      <th>0</th>\n      <td>1000</td>\n      <td>30</td>\n      <td>45</td>\n      <td>0</td>\n      <td>0</td>\n      <td>0</td>\n      <td>1</td>\n      <td>0</td>\n    </tr>\n    <tr>\n      <th>1</th>\n      <td>1000</td>\n      <td>30</td>\n      <td>33</td>\n      <td>1</td>\n      <td>0</td>\n      <td>1</td>\n      <td>0</td>\n      <td>0</td>\n    </tr>\n    <tr>\n      <th>2</th>\n      <td>1000</td>\n      <td>15</td>\n      <td>27</td>\n      <td>0</td>\n      <td>0</td>\n      <td>0</td>\n      <td>0</td>\n      <td>1</td>\n    </tr>\n    <tr>\n      <th>3</th>\n      <td>1000</td>\n      <td>30</td>\n      <td>28</td>\n      <td>1</td>\n      <td>0</td>\n      <td>0</td>\n      <td>0</td>\n      <td>1</td>\n    </tr>\n    <tr>\n      <th>4</th>\n      <td>1000</td>\n      <td>30</td>\n      <td>29</td>\n      <td>0</td>\n      <td>0</td>\n      <td>0</td>\n      <td>0</td>\n      <td>1</td>\n    </tr>\n  </tbody>\n</table>\n</div>",
                        "text/plain": "   Principal  terms  age  Gender  weekend  Bechalor  High School or Below  \\\n0       1000     30   45       0        0         0                     1   \n1       1000     30   33       1        0         1                     0   \n2       1000     15   27       0        0         0                     0   \n3       1000     30   28       1        0         0                     0   \n4       1000     30   29       0        0         0                     0   \n\n   college  \n0        0  \n1        0  \n2        1  \n3        1  \n4        1  "
                    },
                    "execution_count": 17,
                    "metadata": {},
                    "output_type": "execute_result"
                }
            ],
            "source": "X = Feature\nX[0:5]"
        },
        {
            "cell_type": "markdown",
            "metadata": {
                "button": false,
                "new_sheet": false,
                "run_control": {
                    "read_only": false
                }
            },
            "source": "What are our lables?"
        },
        {
            "cell_type": "code",
            "execution_count": 18,
            "metadata": {
                "button": false,
                "new_sheet": false,
                "run_control": {
                    "read_only": false
                }
            },
            "outputs": [
                {
                    "data": {
                        "text/plain": "array(['PAIDOFF', 'PAIDOFF', 'PAIDOFF', 'PAIDOFF', 'PAIDOFF'],\n      dtype=object)"
                    },
                    "execution_count": 18,
                    "metadata": {},
                    "output_type": "execute_result"
                }
            ],
            "source": "y = df['loan_status'].values\ny[0:5]"
        },
        {
            "cell_type": "markdown",
            "metadata": {
                "button": false,
                "new_sheet": false,
                "run_control": {
                    "read_only": false
                }
            },
            "source": "## Normalize Data "
        },
        {
            "cell_type": "markdown",
            "metadata": {
                "button": false,
                "new_sheet": false,
                "run_control": {
                    "read_only": false
                }
            },
            "source": "Data Standardization give data zero mean and unit variance (technically should be done after train test split )"
        },
        {
            "cell_type": "code",
            "execution_count": 19,
            "metadata": {
                "button": false,
                "new_sheet": false,
                "run_control": {
                    "read_only": false
                }
            },
            "outputs": [
                {
                    "name": "stderr",
                    "output_type": "stream",
                    "text": "/opt/conda/envs/Python36/lib/python3.6/site-packages/sklearn/preprocessing/data.py:645: DataConversionWarning: Data with input dtype uint8, int64 were all converted to float64 by StandardScaler.\n  return self.partial_fit(X, y)\n/opt/conda/envs/Python36/lib/python3.6/site-packages/ipykernel/__main__.py:1: DataConversionWarning: Data with input dtype uint8, int64 were all converted to float64 by StandardScaler.\n  if __name__ == '__main__':\n"
                },
                {
                    "data": {
                        "text/plain": "array([[ 0.51578458,  0.92071769,  2.33152555, -0.42056004, -1.14984679,\n        -0.38170062,  1.13639374, -0.86968108],\n       [ 0.51578458,  0.92071769,  0.34170148,  2.37778177, -1.14984679,\n         2.61985426, -0.87997669, -0.86968108],\n       [ 0.51578458, -0.95911111, -0.65321055, -0.42056004, -1.14984679,\n        -0.38170062, -0.87997669,  1.14984679],\n       [ 0.51578458,  0.92071769, -0.48739188,  2.37778177, -1.14984679,\n        -0.38170062, -0.87997669,  1.14984679],\n       [ 0.51578458,  0.92071769, -0.3215732 , -0.42056004, -1.14984679,\n        -0.38170062, -0.87997669,  1.14984679]])"
                    },
                    "execution_count": 19,
                    "metadata": {},
                    "output_type": "execute_result"
                }
            ],
            "source": "X= preprocessing.StandardScaler().fit(X).transform(X)\nX[0:5]"
        },
        {
            "cell_type": "markdown",
            "metadata": {
                "button": false,
                "new_sheet": false,
                "run_control": {
                    "read_only": false
                }
            },
            "source": "# Classification "
        },
        {
            "cell_type": "markdown",
            "metadata": {
                "button": false,
                "new_sheet": false,
                "run_control": {
                    "read_only": false
                }
            },
            "source": "Now, it is your turn, use the training set to build an accurate model. Then use the test set to report the accuracy of the model\nYou should use the following algorithm:\n- K Nearest Neighbor(KNN)\n- Decision Tree\n- Support Vector Machine\n- Logistic Regression\n\n\n\n__ Notice:__ \n- You can go above and change the pre-processing, feature selection, feature-extraction, and so on, to make a better model.\n- You should use either scikit-learn, Scipy or Numpy libraries for developing the classification algorithms.\n- You should include the code of the algorithm in the following cells."
        },
        {
            "cell_type": "markdown",
            "metadata": {},
            "source": "# K Nearest Neighbor(KNN)\nNotice: You should find the best k to build the model with the best accuracy.  \n**warning:** You should not use the __loan_test.csv__ for finding the best k, however, you can split your train_loan.csv into train and test to find the best __k__."
        },
        {
            "cell_type": "code",
            "execution_count": 20,
            "metadata": {},
            "outputs": [
                {
                    "name": "stdout",
                    "output_type": "stream",
                    "text": "Train set: (276, 8) (276,)\nTest set: (70, 8) (70,)\n"
                }
            ],
            "source": "from sklearn.model_selection import train_test_split\nX_traink, X_testk, y_traink, y_testk = train_test_split( X, y, test_size=0.2, random_state=4)\nprint ('Train set:', X_traink.shape,  y_traink.shape)\nprint ('Test set:', X_testk.shape,  y_testk.shape)"
        },
        {
            "cell_type": "code",
            "execution_count": 21,
            "metadata": {},
            "outputs": [
                {
                    "data": {
                        "text/plain": "array(['PAIDOFF', 'COLLECTION', 'PAIDOFF', 'PAIDOFF', 'PAIDOFF'],\n      dtype=object)"
                    },
                    "execution_count": 21,
                    "metadata": {},
                    "output_type": "execute_result"
                }
            ],
            "source": "from sklearn.neighbors import KNeighborsClassifier\nk = 4\n#Train Model and Predict  \nneigh = KNeighborsClassifier(n_neighbors = k).fit(X_traink,y_traink)\nneigh\nyhatk = neigh.predict(X_testk)\nyhatk[0:5]"
        },
        {
            "cell_type": "code",
            "execution_count": 22,
            "metadata": {},
            "outputs": [
                {
                    "name": "stdout",
                    "output_type": "stream",
                    "text": "Train set Accuracy:  0.8115942028985508\nTest set Accuracy:  0.6857142857142857\n"
                }
            ],
            "source": "from sklearn import metrics\nprint(\"Train set Accuracy: \", metrics.accuracy_score(y_traink, neigh.predict(X_traink)))\nprint(\"Test set Accuracy: \", metrics.accuracy_score(y_testk, yhatk))"
        },
        {
            "cell_type": "code",
            "execution_count": 23,
            "metadata": {},
            "outputs": [
                {
                    "data": {
                        "text/plain": "array([0.62857143, 0.61428571, 0.74285714, 0.68571429, 0.77142857,\n       0.72857143, 0.75714286, 0.75714286, 0.7       , 0.65714286,\n       0.7       , 0.71428571, 0.71428571, 0.68571429])"
                    },
                    "execution_count": 23,
                    "metadata": {},
                    "output_type": "execute_result"
                }
            ],
            "source": "#Finding the best value of k\nKs = 15\nmean_acc = np.zeros((Ks-1))\nstd_acc = np.zeros((Ks-1))\nConfustionMx = [];\nfor n in range(1,Ks):\n    \n    #Train Model and Predict  \n    neigh = KNeighborsClassifier(n_neighbors = n).fit(X_traink,y_traink)\n    yhatk=neigh.predict(X_testk)\n    mean_acc[n-1] = metrics.accuracy_score(y_testk, yhatk)\n\n    \n    std_acc[n-1]=np.std(yhatk==y_testk)/np.sqrt(yhatk.shape[0])\n\nmean_acc"
        },
        {
            "cell_type": "code",
            "execution_count": 24,
            "metadata": {},
            "outputs": [
                {
                    "data": {
                        "image/png": "[encoded data removed]",
                        "text/plain": "<Figure size 432x288 with 1 Axes>"
                    },
                    "metadata": {
                        "needs_background": "light"
                    },
                    "output_type": "display_data"
                }
            ],
            "source": "plt.plot(range(1,Ks),mean_acc,'g')\nplt.fill_between(range(1,Ks),mean_acc - 1 * std_acc,mean_acc + 1 * std_acc, alpha=0.10)\nplt.legend(('Accuracy ', '+/- 3xstd'))\nplt.ylabel('Accuracy ')\nplt.xlabel('Number of Nabors (K)')\nplt.tight_layout()\nplt.show()"
        },
        {
            "cell_type": "code",
            "execution_count": 25,
            "metadata": {},
            "outputs": [
                {
                    "name": "stdout",
                    "output_type": "stream",
                    "text": "The best accuracy was with 0.7714285714285715 with k= 5\n"
                }
            ],
            "source": "print( \"The best accuracy was with\", mean_acc.max(), \"with k=\", mean_acc.argmax()+1) "
        },
        {
            "cell_type": "code",
            "execution_count": 26,
            "metadata": {},
            "outputs": [],
            "source": "k = 13\n#Train Model and Predict  \nneighf = KNeighborsClassifier(n_neighbors = k).fit(X_traink,y_traink)\nneighf\nyhat2k = neighf.predict(X_testk)"
        },
        {
            "cell_type": "markdown",
            "metadata": {},
            "source": "# Decision Tree"
        },
        {
            "cell_type": "code",
            "execution_count": 27,
            "metadata": {},
            "outputs": [],
            "source": "from sklearn.model_selection import train_test_split\nX_trainsetd, X_testsetd, y_trainsetd, y_testsetd = train_test_split(X, y, test_size=0.3, random_state=3)"
        },
        {
            "cell_type": "code",
            "execution_count": 28,
            "metadata": {},
            "outputs": [
                {
                    "data": {
                        "text/plain": "DecisionTreeClassifier(class_weight=None, criterion='entropy', max_depth=10,\n            max_features=None, max_leaf_nodes=None,\n            min_impurity_decrease=0.0, min_impurity_split=None,\n            min_samples_leaf=1, min_samples_split=2,\n            min_weight_fraction_leaf=0.0, presort=False, random_state=None,\n            splitter='best')"
                    },
                    "execution_count": 28,
                    "metadata": {},
                    "output_type": "execute_result"
                }
            ],
            "source": "from sklearn.tree import DecisionTreeClassifier\ndecTree = DecisionTreeClassifier(criterion=\"entropy\",max_depth=10)\ndecTree.fit(X_trainsetd,y_trainsetd)"
        },
        {
            "cell_type": "code",
            "execution_count": 29,
            "metadata": {},
            "outputs": [],
            "source": "predTree = decTree.predict(X_testsetd)"
        },
        {
            "cell_type": "code",
            "execution_count": 30,
            "metadata": {},
            "outputs": [
                {
                    "name": "stdout",
                    "output_type": "stream",
                    "text": "DecisionTrees's Accuracy:  0.6730769230769231\n"
                }
            ],
            "source": "from sklearn import metrics\nimport matplotlib.pyplot as plt\nprint(\"DecisionTrees's Accuracy: \", metrics.accuracy_score(y_testsetd, predTree))"
        },
        {
            "cell_type": "code",
            "execution_count": 69,
            "metadata": {},
            "outputs": [
                {
                    "name": "stderr",
                    "output_type": "stream",
                    "text": "/opt/conda/envs/Python36/lib/python3.6/site-packages/sklearn/model_selection/_split.py:2053: FutureWarning: You should specify a value for 'cv' instead of relying on the default value. The default value will change from 3 to 5 in version 0.22.\n  warnings.warn(CV_WARNING, FutureWarning)\n"
                },
                {
                    "name": "stdout",
                    "output_type": "stream",
                    "text": "Best Criterion: gini\nBest max_depth: 4\nBest Number Of Components: 2\n\nDecisionTreeClassifier(class_weight=None, criterion='gini', max_depth=4,\n            max_features=None, max_leaf_nodes=None,\n            min_impurity_decrease=0.0, min_impurity_split=None,\n            min_samples_leaf=1, min_samples_split=2,\n            min_weight_fraction_leaf=0.0, presort=False, random_state=None,\n            splitter='best')\n"
                },
                {
                    "name": "stderr",
                    "output_type": "stream",
                    "text": "/opt/conda/envs/Python36/lib/python3.6/site-packages/sklearn/model_selection/_search.py:841: DeprecationWarning: The default of the `iid` parameter will change from True to False in version 0.22 and will be removed in 0.24. This will change numeric results when test-set sizes are unequal.\n  DeprecationWarning)\n"
                }
            ],
            "source": "from sklearn import decomposition, datasets\nfrom sklearn import tree\nfrom sklearn.pipeline import Pipeline\nfrom sklearn.model_selection import GridSearchCV\n# Create a pca object\npca = decomposition.PCA()\n\n# Create a logistic regression object with an L2 penalty\ndecisiontree = tree.DecisionTreeClassifier()\n\n# Create a pipeline of three steps. First, standardize the data.\n# Second, tranform the data with PCA.\n# Third, train a Decision Tree Classifier on the data.\npipe = Pipeline(steps=[('pca', pca),('decisiontree', decisiontree)])\n\n# Create Parameter Space\n# Create a list of a sequence of integers from 1 to 30 (the number of features in X + 1)\nn_components = list(range(1,X.shape[1]+1,1))\n\n# Create lists of parameter for Decision Tree Classifier\ncriterion = ['gini', 'entropy']\nmax_depth = [4,6,8,12]\n\n# Create a dictionary of all the parameter options \n# Note has you can access the parameters of steps of a pipeline by using '__\u2019\nparameters = dict(pca__n_components=n_components,decisiontree__criterion=criterion,decisiontree__max_depth=max_depth)\n\n# Conduct Parameter Optmization With Pipeline\n# Create a grid search object\ndecTreef = GridSearchCV(pipe, parameters)\n\n# Fit the grid search\ndecTreef.fit(X_trainsetd,y_trainsetd)\n\n# View The Best Parameters\nprint('Best Criterion:', decTreef.best_estimator_.get_params()['decisiontree__criterion'])\nprint('Best max_depth:', decTreef.best_estimator_.get_params()['decisiontree__max_depth'])\nprint('Best Number Of Components:', decTreef.best_estimator_.get_params()['pca__n_components'])\nprint(); print(decTreef.best_estimator_.get_params()['decisiontree'])\n"
        },
        {
            "cell_type": "code",
            "execution_count": 70,
            "metadata": {},
            "outputs": [
                {
                    "data": {
                        "text/plain": "DecisionTreeClassifier(class_weight=None, criterion='gini', max_depth=4,\n            max_features=None, max_leaf_nodes=None,\n            min_impurity_decrease=0.0, min_impurity_split=None,\n            min_samples_leaf=1, min_samples_split=2,\n            min_weight_fraction_leaf=0.0, presort=False, random_state=None,\n            splitter='best')"
                    },
                    "execution_count": 70,
                    "metadata": {},
                    "output_type": "execute_result"
                }
            ],
            "source": "decTreeff = DecisionTreeClassifier(class_weight=None, criterion='gini', max_depth=4,max_features=None, max_leaf_nodes=None,min_impurity_decrease=0.0, min_impurity_split=None,\n            min_samples_leaf=1, min_samples_split=2,\n            min_weight_fraction_leaf=0.0, presort=False, random_state=None,\n            splitter='best')\ndecTreeff.fit(X_trainsetd,y_trainsetd)"
        },
        {
            "cell_type": "code",
            "execution_count": 71,
            "metadata": {},
            "outputs": [
                {
                    "name": "stdout",
                    "output_type": "stream",
                    "text": "DecisionTrees's Accuracy:  0.6538461538461539\n"
                }
            ],
            "source": "print(\"DecisionTrees's Accuracy: \", metrics.accuracy_score(y_testsetd, decTreeff.predict(X_testsetd)))"
        },
        {
            "cell_type": "markdown",
            "metadata": {},
            "source": "# Support Vector Machine"
        },
        {
            "cell_type": "code",
            "execution_count": 31,
            "metadata": {},
            "outputs": [
                {
                    "name": "stdout",
                    "output_type": "stream",
                    "text": "Train set: (276, 8) (276,)\nTest set: (70, 8) (70,)\n"
                }
            ],
            "source": "X_trains, X_tests, y_trains, y_tests = train_test_split( X, y, test_size=0.2, random_state=4)\nprint ('Train set:', X_trains.shape,  y_trains.shape)\nprint ('Test set:', X_tests.shape,  y_tests.shape)"
        },
        {
            "cell_type": "code",
            "execution_count": 32,
            "metadata": {},
            "outputs": [
                {
                    "name": "stderr",
                    "output_type": "stream",
                    "text": "/opt/conda/envs/Python36/lib/python3.6/site-packages/sklearn/svm/base.py:196: FutureWarning: The default value of gamma will change from 'auto' to 'scale' in version 0.22 to account better for unscaled features. Set gamma explicitly to 'auto' or 'scale' to avoid this warning.\n  \"avoid this warning.\", FutureWarning)\n"
                },
                {
                    "data": {
                        "text/plain": "SVC(C=1.0, cache_size=200, class_weight=None, coef0=0.0,\n  decision_function_shape='ovr', degree=3, gamma='auto_deprecated',\n  kernel='rbf', max_iter=-1, probability=False, random_state=None,\n  shrinking=True, tol=0.001, verbose=False)"
                    },
                    "execution_count": 32,
                    "metadata": {},
                    "output_type": "execute_result"
                }
            ],
            "source": "from sklearn import svm\nfrom sklearn.svm import SVC\nclf = svm.SVC(kernel='rbf')\nclf.fit(X_trains, y_trains) "
        },
        {
            "cell_type": "code",
            "execution_count": 33,
            "metadata": {},
            "outputs": [
                {
                    "data": {
                        "text/plain": "array(['COLLECTION', 'PAIDOFF', 'PAIDOFF', 'PAIDOFF', 'PAIDOFF'],\n      dtype=object)"
                    },
                    "execution_count": 33,
                    "metadata": {},
                    "output_type": "execute_result"
                }
            ],
            "source": "yhats = clf.predict(X_tests)\nyhats [0:5]"
        },
        {
            "cell_type": "code",
            "execution_count": 34,
            "metadata": {},
            "outputs": [
                {
                    "data": {
                        "text/plain": "0.7173645320197043"
                    },
                    "execution_count": 34,
                    "metadata": {},
                    "output_type": "execute_result"
                }
            ],
            "source": "from sklearn.metrics import f1_score\nf1_score(y_tests, yhats, average='weighted') "
        },
        {
            "cell_type": "code",
            "execution_count": 35,
            "metadata": {},
            "outputs": [
                {
                    "data": {
                        "text/plain": "0.7428571428571429"
                    },
                    "execution_count": 35,
                    "metadata": {},
                    "output_type": "execute_result"
                }
            ],
            "source": "from sklearn.metrics import jaccard_similarity_score\njaccard_similarity_score(y_tests, yhats)"
        },
        {
            "cell_type": "code",
            "execution_count": 36,
            "metadata": {},
            "outputs": [],
            "source": "from sklearn.model_selection import GridSearchCV\nparam_grid = {'C': [0.01,0.1,1, 10, 100], 'gamma': [10,1,0.1,0.01],'kernel': ['rbf', 'linear', 'sigmoid']}\ngrid = GridSearchCV(SVC(),param_grid,refit=True,verbose=2)\n"
        },
        {
            "cell_type": "code",
            "execution_count": 37,
            "metadata": {},
            "outputs": [
                {
                    "name": "stdout",
                    "output_type": "stream",
                    "text": "Fitting 3 folds for each of 60 candidates, totalling 180 fits\n[CV] C=0.01, gamma=10, kernel=rbf ....................................\n[CV] ..................... C=0.01, gamma=10, kernel=rbf, total=   0.0s\n[CV] C=0.01, gamma=10, kernel=rbf ....................................\n[CV] ..................... C=0.01, gamma=10, kernel=rbf, total=   0.0s\n[CV] C=0.01, gamma=10, kernel=rbf ....................................\n[CV] ..................... C=0.01, gamma=10, kernel=rbf, total=   0.0s\n[CV] C=0.01, gamma=10, kernel=linear .................................\n[CV] .................. C=0.01, gamma=10, kernel=linear, total=   0.0s\n[CV] C=0.01, gamma=10, kernel=linear .................................\n[CV] .................. C=0.01, gamma=10, kernel=linear, total=   0.0s\n[CV] C=0.01, gamma=10, kernel=linear .................................\n[CV] .................. C=0.01, gamma=10, kernel=linear, total=   0.0s\n[CV] C=0.01, gamma=10, kernel=sigmoid ................................\n[CV] ................. C=0.01, gamma=10, kernel=sigmoid, total=   0.0s\n[CV] C=0.01, gamma=10, kernel=sigmoid ................................\n[CV] ................. C=0.01, gamma=10, kernel=sigmoid, total=   0.0s\n[CV] C=0.01, gamma=10, kernel=sigmoid ................................\n[CV] ................. C=0.01, gamma=10, kernel=sigmoid, total=   0.0s\n[CV] C=0.01, gamma=1, kernel=rbf .....................................\n[CV] ...................... C=0.01, gamma=1, kernel=rbf, total=   0.0s\n[CV] C=0.01, gamma=1, kernel=rbf .....................................\n[CV] ...................... C=0.01, gamma=1, kernel=rbf, total=   0.0s\n[CV] C=0.01, gamma=1, kernel=rbf .....................................\n[CV] ...................... C=0.01, gamma=1, kernel=rbf, total=   0.0s\n[CV] C=0.01, gamma=1, kernel=linear ..................................\n[CV] ................... C=0.01, gamma=1, kernel=linear, total=   0.0s\n[CV] C=0.01, gamma=1, kernel=linear ..................................\n[CV] ................... C=0.01, gamma=1, kernel=linear, total=   0.0s\n[CV] C=0.01, gamma=1, kernel=linear ..................................\n[CV] ................... C=0.01, gamma=1, kernel=linear, total=   0.0s\n[CV] C=0.01, gamma=1, kernel=sigmoid .................................\n[CV] .................. C=0.01, gamma=1, kernel=sigmoid, total=   0.0s\n[CV] C=0.01, gamma=1, kernel=sigmoid .................................\n[CV] .................. C=0.01, gamma=1, kernel=sigmoid, total=   0.0s\n[CV] C=0.01, gamma=1, kernel=sigmoid .................................\n[CV] .................. C=0.01, gamma=1, kernel=sigmoid, total=   0.0s\n[CV] C=0.01, gamma=0.1, kernel=rbf ...................................\n[CV] .................... C=0.01, gamma=0.1, kernel=rbf, total=   0.0s\n[CV] C=0.01, gamma=0.1, kernel=rbf ...................................\n[CV] .................... C=0.01, gamma=0.1, kernel=rbf, total=   0.0s\n[CV] C=0.01, gamma=0.1, kernel=rbf ...................................\n[CV] .................... C=0.01, gamma=0.1, kernel=rbf, total=   0.0s\n[CV] C=0.01, gamma=0.1, kernel=linear ................................\n[CV] ................. C=0.01, gamma=0.1, kernel=linear, total=   0.0s\n[CV] C=0.01, gamma=0.1, kernel=linear ................................\n[CV] ................. C=0.01, gamma=0.1, kernel=linear, total=   0.0s\n[CV] C=0.01, gamma=0.1, kernel=linear ................................\n[CV] ................. C=0.01, gamma=0.1, kernel=linear, total=   0.0s\n[CV] C=0.01, gamma=0.1, kernel=sigmoid ...............................\n[CV] ................ C=0.01, gamma=0.1, kernel=sigmoid, total=   0.0s\n[CV] C=0.01, gamma=0.1, kernel=sigmoid ...............................\n[CV] ................ C=0.01, gamma=0.1, kernel=sigmoid, total=   0.0s\n[CV] C=0.01, gamma=0.1, kernel=sigmoid ...............................\n[CV] ................ C=0.01, gamma=0.1, kernel=sigmoid, total=   0.0s\n[CV] C=0.01, gamma=0.01, kernel=rbf ..................................\n[CV] ................... C=0.01, gamma=0.01, kernel=rbf, total=   0.0s\n[CV] C=0.01, gamma=0.01, kernel=rbf ..................................\n[CV] ................... C=0.01, gamma=0.01, kernel=rbf, total=   0.0s\n[CV] C=0.01, gamma=0.01, kernel=rbf ..................................\n[CV] ................... C=0.01, gamma=0.01, kernel=rbf, total=   0.0s\n[CV] C=0.01, gamma=0.01, kernel=linear ...............................\n[CV] ................ C=0.01, gamma=0.01, kernel=linear, total=   0.0s\n[CV] C=0.01, gamma=0.01, kernel=linear ...............................\n"
                },
                {
                    "name": "stderr",
                    "output_type": "stream",
                    "text": "/opt/conda/envs/Python36/lib/python3.6/site-packages/sklearn/model_selection/_split.py:2053: FutureWarning: You should specify a value for 'cv' instead of relying on the default value. The default value will change from 3 to 5 in version 0.22.\n  warnings.warn(CV_WARNING, FutureWarning)\n[Parallel(n_jobs=1)]: Using backend SequentialBackend with 1 concurrent workers.\n[Parallel(n_jobs=1)]: Done   1 out of   1 | elapsed:    0.0s remaining:    0.0s\n"
                },
                {
                    "name": "stdout",
                    "output_type": "stream",
                    "text": "[CV] ................ C=0.01, gamma=0.01, kernel=linear, total=   0.0s\n[CV] C=0.01, gamma=0.01, kernel=linear ...............................\n[CV] ................ C=0.01, gamma=0.01, kernel=linear, total=   0.0s\n[CV] C=0.01, gamma=0.01, kernel=sigmoid ..............................\n[CV] ............... C=0.01, gamma=0.01, kernel=sigmoid, total=   0.0s\n[CV] C=0.01, gamma=0.01, kernel=sigmoid ..............................\n[CV] ............... C=0.01, gamma=0.01, kernel=sigmoid, total=   0.0s\n[CV] C=0.01, gamma=0.01, kernel=sigmoid ..............................\n[CV] ............... C=0.01, gamma=0.01, kernel=sigmoid, total=   0.0s\n[CV] C=0.1, gamma=10, kernel=rbf .....................................\n[CV] ...................... C=0.1, gamma=10, kernel=rbf, total=   0.0s\n[CV] C=0.1, gamma=10, kernel=rbf .....................................\n[CV] ...................... C=0.1, gamma=10, kernel=rbf, total=   0.0s\n[CV] C=0.1, gamma=10, kernel=rbf .....................................\n[CV] ...................... C=0.1, gamma=10, kernel=rbf, total=   0.0s\n[CV] C=0.1, gamma=10, kernel=linear ..................................\n[CV] ................... C=0.1, gamma=10, kernel=linear, total=   0.0s\n[CV] C=0.1, gamma=10, kernel=linear ..................................\n[CV] ................... C=0.1, gamma=10, kernel=linear, total=   0.0s\n[CV] C=0.1, gamma=10, kernel=linear ..................................\n[CV] ................... C=0.1, gamma=10, kernel=linear, total=   0.0s\n[CV] C=0.1, gamma=10, kernel=sigmoid .................................\n[CV] .................. C=0.1, gamma=10, kernel=sigmoid, total=   0.0s\n[CV] C=0.1, gamma=10, kernel=sigmoid .................................\n[CV] .................. C=0.1, gamma=10, kernel=sigmoid, total=   0.0s\n[CV] C=0.1, gamma=10, kernel=sigmoid .................................\n[CV] .................. C=0.1, gamma=10, kernel=sigmoid, total=   0.0s\n[CV] C=0.1, gamma=1, kernel=rbf ......................................\n[CV] ....................... C=0.1, gamma=1, kernel=rbf, total=   0.0s\n[CV] C=0.1, gamma=1, kernel=rbf ......................................\n[CV] ....................... C=0.1, gamma=1, kernel=rbf, total=   0.0s\n[CV] C=0.1, gamma=1, kernel=rbf ......................................\n[CV] ....................... C=0.1, gamma=1, kernel=rbf, total=   0.0s\n[CV] C=0.1, gamma=1, kernel=linear ...................................\n[CV] .................... C=0.1, gamma=1, kernel=linear, total=   0.0s\n[CV] C=0.1, gamma=1, kernel=linear ...................................\n[CV] .................... C=0.1, gamma=1, kernel=linear, total=   0.0s\n[CV] C=0.1, gamma=1, kernel=linear ...................................\n[CV] .................... C=0.1, gamma=1, kernel=linear, total=   0.0s\n[CV] C=0.1, gamma=1, kernel=sigmoid ..................................\n[CV] ................... C=0.1, gamma=1, kernel=sigmoid, total=   0.0s\n[CV] C=0.1, gamma=1, kernel=sigmoid ..................................\n[CV] ................... C=0.1, gamma=1, kernel=sigmoid, total=   0.0s\n[CV] C=0.1, gamma=1, kernel=sigmoid ..................................\n[CV] ................... C=0.1, gamma=1, kernel=sigmoid, total=   0.0s\n[CV] C=0.1, gamma=0.1, kernel=rbf ....................................\n[CV] ..................... C=0.1, gamma=0.1, kernel=rbf, total=   0.0s\n[CV] C=0.1, gamma=0.1, kernel=rbf ....................................\n[CV] ..................... C=0.1, gamma=0.1, kernel=rbf, total=   0.0s\n[CV] C=0.1, gamma=0.1, kernel=rbf ....................................\n[CV] ..................... C=0.1, gamma=0.1, kernel=rbf, total=   0.0s\n[CV] C=0.1, gamma=0.1, kernel=linear .................................\n[CV] .................. C=0.1, gamma=0.1, kernel=linear, total=   0.0s\n[CV] C=0.1, gamma=0.1, kernel=linear .................................\n[CV] .................. C=0.1, gamma=0.1, kernel=linear, total=   0.0s\n[CV] C=0.1, gamma=0.1, kernel=linear .................................\n[CV] .................. C=0.1, gamma=0.1, kernel=linear, total=   0.0s\n[CV] C=0.1, gamma=0.1, kernel=sigmoid ................................\n[CV] ................. C=0.1, gamma=0.1, kernel=sigmoid, total=   0.0s\n[CV] C=0.1, gamma=0.1, kernel=sigmoid ................................\n[CV] ................. C=0.1, gamma=0.1, kernel=sigmoid, total=   0.0s\n[CV] C=0.1, gamma=0.1, kernel=sigmoid ................................\n[CV] ................. C=0.1, gamma=0.1, kernel=sigmoid, total=   0.0s\n[CV] C=0.1, gamma=0.01, kernel=rbf ...................................\n[CV] .................... C=0.1, gamma=0.01, kernel=rbf, total=   0.0s\n[CV] C=0.1, gamma=0.01, kernel=rbf ...................................\n[CV] .................... C=0.1, gamma=0.01, kernel=rbf, total=   0.0s\n[CV] C=0.1, gamma=0.01, kernel=rbf ...................................\n[CV] .................... C=0.1, gamma=0.01, kernel=rbf, total=   0.0s\n[CV] C=0.1, gamma=0.01, kernel=linear ................................\n[CV] ................. C=0.1, gamma=0.01, kernel=linear, total=   0.0s\n[CV] C=0.1, gamma=0.01, kernel=linear ................................\n[CV] ................. C=0.1, gamma=0.01, kernel=linear, total=   0.0s\n[CV] C=0.1, gamma=0.01, kernel=linear ................................\n[CV] ................. C=0.1, gamma=0.01, kernel=linear, total=   0.0s\n[CV] C=0.1, gamma=0.01, kernel=sigmoid ...............................\n[CV] ................ C=0.1, gamma=0.01, kernel=sigmoid, total=   0.0s\n[CV] C=0.1, gamma=0.01, kernel=sigmoid ...............................\n[CV] ................ C=0.1, gamma=0.01, kernel=sigmoid, total=   0.0s\n[CV] C=0.1, gamma=0.01, kernel=sigmoid ...............................\n[CV] ................ C=0.1, gamma=0.01, kernel=sigmoid, total=   0.0s\n[CV] C=1, gamma=10, kernel=rbf .......................................\n[CV] ........................ C=1, gamma=10, kernel=rbf, total=   0.0s\n[CV] C=1, gamma=10, kernel=rbf .......................................\n[CV] ........................ C=1, gamma=10, kernel=rbf, total=   0.0s\n[CV] C=1, gamma=10, kernel=rbf .......................................\n[CV] ........................ C=1, gamma=10, kernel=rbf, total=   0.0s\n[CV] C=1, gamma=10, kernel=linear ....................................\n[CV] ..................... C=1, gamma=10, kernel=linear, total=   0.0s\n[CV] C=1, gamma=10, kernel=linear ....................................\n[CV] ..................... C=1, gamma=10, kernel=linear, total=   0.0s\n[CV] C=1, gamma=10, kernel=linear ....................................\n[CV] ..................... C=1, gamma=10, kernel=linear, total=   0.0s\n[CV] C=1, gamma=10, kernel=sigmoid ...................................\n[CV] .................... C=1, gamma=10, kernel=sigmoid, total=   0.0s\n[CV] C=1, gamma=10, kernel=sigmoid ...................................\n[CV] .................... C=1, gamma=10, kernel=sigmoid, total=   0.0s\n[CV] C=1, gamma=10, kernel=sigmoid ...................................\n[CV] .................... C=1, gamma=10, kernel=sigmoid, total=   0.0s\n[CV] C=1, gamma=1, kernel=rbf ........................................\n[CV] ......................... C=1, gamma=1, kernel=rbf, total=   0.0s\n[CV] C=1, gamma=1, kernel=rbf ........................................\n[CV] ......................... C=1, gamma=1, kernel=rbf, total=   0.0s\n[CV] C=1, gamma=1, kernel=rbf ........................................\n[CV] ......................... C=1, gamma=1, kernel=rbf, total=   0.0s\n[CV] C=1, gamma=1, kernel=linear .....................................\n[CV] ...................... C=1, gamma=1, kernel=linear, total=   0.0s\n[CV] C=1, gamma=1, kernel=linear .....................................\n[CV] ...................... C=1, gamma=1, kernel=linear, total=   0.0s\n[CV] C=1, gamma=1, kernel=linear .....................................\n[CV] ...................... C=1, gamma=1, kernel=linear, total=   0.0s\n[CV] C=1, gamma=1, kernel=sigmoid ....................................\n[CV] ..................... C=1, gamma=1, kernel=sigmoid, total=   0.0s\n[CV] C=1, gamma=1, kernel=sigmoid ....................................\n[CV] ..................... C=1, gamma=1, kernel=sigmoid, total=   0.0s\n[CV] C=1, gamma=1, kernel=sigmoid ....................................\n[CV] ..................... C=1, gamma=1, kernel=sigmoid, total=   0.0s\n[CV] C=1, gamma=0.1, kernel=rbf ......................................\n[CV] ....................... C=1, gamma=0.1, kernel=rbf, total=   0.0s\n[CV] C=1, gamma=0.1, kernel=rbf ......................................\n[CV] ....................... C=1, gamma=0.1, kernel=rbf, total=   0.0s\n[CV] C=1, gamma=0.1, kernel=rbf ......................................\n[CV] ....................... C=1, gamma=0.1, kernel=rbf, total=   0.0s\n[CV] C=1, gamma=0.1, kernel=linear ...................................\n[CV] .................... C=1, gamma=0.1, kernel=linear, total=   0.0s\n[CV] C=1, gamma=0.1, kernel=linear ...................................\n[CV] .................... C=1, gamma=0.1, kernel=linear, total=   0.0s\n[CV] C=1, gamma=0.1, kernel=linear ...................................\n[CV] .................... C=1, gamma=0.1, kernel=linear, total=   0.0s\n[CV] C=1, gamma=0.1, kernel=sigmoid ..................................\n[CV] ................... C=1, gamma=0.1, kernel=sigmoid, total=   0.0s\n[CV] C=1, gamma=0.1, kernel=sigmoid ..................................\n[CV] ................... C=1, gamma=0.1, kernel=sigmoid, total=   0.0s\n[CV] C=1, gamma=0.1, kernel=sigmoid ..................................\n[CV] ................... C=1, gamma=0.1, kernel=sigmoid, total=   0.0s\n[CV] C=1, gamma=0.01, kernel=rbf .....................................\n[CV] ...................... C=1, gamma=0.01, kernel=rbf, total=   0.0s\n[CV] C=1, gamma=0.01, kernel=rbf .....................................\n[CV] ...................... C=1, gamma=0.01, kernel=rbf, total=   0.0s\n[CV] C=1, gamma=0.01, kernel=rbf .....................................\n[CV] ...................... C=1, gamma=0.01, kernel=rbf, total=   0.0s\n[CV] C=1, gamma=0.01, kernel=linear ..................................\n[CV] ................... C=1, gamma=0.01, kernel=linear, total=   0.0s\n[CV] C=1, gamma=0.01, kernel=linear ..................................\n[CV] ................... C=1, gamma=0.01, kernel=linear, total=   0.0s\n[CV] C=1, gamma=0.01, kernel=linear ..................................\n[CV] ................... C=1, gamma=0.01, kernel=linear, total=   0.0s\n[CV] C=1, gamma=0.01, kernel=sigmoid .................................\n[CV] .................. C=1, gamma=0.01, kernel=sigmoid, total=   0.0s\n[CV] C=1, gamma=0.01, kernel=sigmoid .................................\n[CV] .................. C=1, gamma=0.01, kernel=sigmoid, total=   0.0s\n[CV] C=1, gamma=0.01, kernel=sigmoid .................................\n[CV] .................. C=1, gamma=0.01, kernel=sigmoid, total=   0.0s\n[CV] C=10, gamma=10, kernel=rbf ......................................\n[CV] ....................... C=10, gamma=10, kernel=rbf, total=   0.0s\n[CV] C=10, gamma=10, kernel=rbf ......................................\n[CV] ....................... C=10, gamma=10, kernel=rbf, total=   0.0s\n[CV] C=10, gamma=10, kernel=rbf ......................................\n[CV] ....................... C=10, gamma=10, kernel=rbf, total=   0.0s\n[CV] C=10, gamma=10, kernel=linear ...................................\n[CV] .................... C=10, gamma=10, kernel=linear, total=   0.0s\n[CV] C=10, gamma=10, kernel=linear ...................................\n[CV] .................... C=10, gamma=10, kernel=linear, total=   0.0s\n[CV] C=10, gamma=10, kernel=linear ...................................\n[CV] .................... C=10, gamma=10, kernel=linear, total=   0.0s\n[CV] C=10, gamma=10, kernel=sigmoid ..................................\n[CV] ................... C=10, gamma=10, kernel=sigmoid, total=   0.0s\n[CV] C=10, gamma=10, kernel=sigmoid ..................................\n[CV] ................... C=10, gamma=10, kernel=sigmoid, total=   0.0s\n[CV] C=10, gamma=10, kernel=sigmoid ..................................\n[CV] ................... C=10, gamma=10, kernel=sigmoid, total=   0.0s\n[CV] C=10, gamma=1, kernel=rbf .......................................\n[CV] ........................ C=10, gamma=1, kernel=rbf, total=   0.0s\n[CV] C=10, gamma=1, kernel=rbf .......................................\n[CV] ........................ C=10, gamma=1, kernel=rbf, total=   0.0s\n[CV] C=10, gamma=1, kernel=rbf .......................................\n[CV] ........................ C=10, gamma=1, kernel=rbf, total=   0.0s\n[CV] C=10, gamma=1, kernel=linear ....................................\n[CV] ..................... C=10, gamma=1, kernel=linear, total=   0.0s\n[CV] C=10, gamma=1, kernel=linear ....................................\n[CV] ..................... C=10, gamma=1, kernel=linear, total=   0.0s\n[CV] C=10, gamma=1, kernel=linear ....................................\n[CV] ..................... C=10, gamma=1, kernel=linear, total=   0.0s\n[CV] C=10, gamma=1, kernel=sigmoid ...................................\n[CV] .................... C=10, gamma=1, kernel=sigmoid, total=   0.0s\n[CV] C=10, gamma=1, kernel=sigmoid ...................................\n[CV] .................... C=10, gamma=1, kernel=sigmoid, total=   0.0s\n[CV] C=10, gamma=1, kernel=sigmoid ...................................\n[CV] .................... C=10, gamma=1, kernel=sigmoid, total=   0.0s\n[CV] C=10, gamma=0.1, kernel=rbf .....................................\n[CV] ...................... C=10, gamma=0.1, kernel=rbf, total=   0.0s\n[CV] C=10, gamma=0.1, kernel=rbf .....................................\n[CV] ...................... C=10, gamma=0.1, kernel=rbf, total=   0.0s\n[CV] C=10, gamma=0.1, kernel=rbf .....................................\n[CV] ...................... C=10, gamma=0.1, kernel=rbf, total=   0.0s\n[CV] C=10, gamma=0.1, kernel=linear ..................................\n[CV] ................... C=10, gamma=0.1, kernel=linear, total=   0.0s\n[CV] C=10, gamma=0.1, kernel=linear ..................................\n[CV] ................... C=10, gamma=0.1, kernel=linear, total=   0.0s\n[CV] C=10, gamma=0.1, kernel=linear ..................................\n[CV] ................... C=10, gamma=0.1, kernel=linear, total=   0.0s\n[CV] C=10, gamma=0.1, kernel=sigmoid .................................\n[CV] .................. C=10, gamma=0.1, kernel=sigmoid, total=   0.0s\n[CV] C=10, gamma=0.1, kernel=sigmoid .................................\n[CV] .................. C=10, gamma=0.1, kernel=sigmoid, total=   0.0s\n[CV] C=10, gamma=0.1, kernel=sigmoid .................................\n[CV] .................. C=10, gamma=0.1, kernel=sigmoid, total=   0.0s\n[CV] C=10, gamma=0.01, kernel=rbf ....................................\n[CV] ..................... C=10, gamma=0.01, kernel=rbf, total=   0.0s\n[CV] C=10, gamma=0.01, kernel=rbf ....................................\n[CV] ..................... C=10, gamma=0.01, kernel=rbf, total=   0.0s\n[CV] C=10, gamma=0.01, kernel=rbf ....................................\n[CV] ..................... C=10, gamma=0.01, kernel=rbf, total=   0.0s\n[CV] C=10, gamma=0.01, kernel=linear .................................\n[CV] .................. C=10, gamma=0.01, kernel=linear, total=   0.0s\n[CV] C=10, gamma=0.01, kernel=linear .................................\n[CV] .................. C=10, gamma=0.01, kernel=linear, total=   0.0s\n[CV] C=10, gamma=0.01, kernel=linear .................................\n[CV] .................. C=10, gamma=0.01, kernel=linear, total=   0.0s\n[CV] C=10, gamma=0.01, kernel=sigmoid ................................\n[CV] ................. C=10, gamma=0.01, kernel=sigmoid, total=   0.0s\n[CV] C=10, gamma=0.01, kernel=sigmoid ................................\n[CV] ................. C=10, gamma=0.01, kernel=sigmoid, total=   0.0s\n[CV] C=10, gamma=0.01, kernel=sigmoid ................................\n[CV] ................. C=10, gamma=0.01, kernel=sigmoid, total=   0.0s\n[CV] C=100, gamma=10, kernel=rbf .....................................\n[CV] ...................... C=100, gamma=10, kernel=rbf, total=   0.0s\n[CV] C=100, gamma=10, kernel=rbf .....................................\n[CV] ...................... C=100, gamma=10, kernel=rbf, total=   0.0s\n[CV] C=100, gamma=10, kernel=rbf .....................................\n[CV] ...................... C=100, gamma=10, kernel=rbf, total=   0.0s\n[CV] C=100, gamma=10, kernel=linear ..................................\n[CV] ................... C=100, gamma=10, kernel=linear, total=   0.0s\n[CV] C=100, gamma=10, kernel=linear ..................................\n[CV] ................... C=100, gamma=10, kernel=linear, total=   0.0s\n[CV] C=100, gamma=10, kernel=linear ..................................\n[CV] ................... C=100, gamma=10, kernel=linear, total=   0.0s\n[CV] C=100, gamma=10, kernel=sigmoid .................................\n[CV] .................. C=100, gamma=10, kernel=sigmoid, total=   0.0s\n[CV] C=100, gamma=10, kernel=sigmoid .................................\n[CV] .................. C=100, gamma=10, kernel=sigmoid, total=   0.0s\n[CV] C=100, gamma=10, kernel=sigmoid .................................\n[CV] .................. C=100, gamma=10, kernel=sigmoid, total=   0.0s\n[CV] C=100, gamma=1, kernel=rbf ......................................\n[CV] ....................... C=100, gamma=1, kernel=rbf, total=   0.0s\n[CV] C=100, gamma=1, kernel=rbf ......................................\n[CV] ....................... C=100, gamma=1, kernel=rbf, total=   0.0s\n[CV] C=100, gamma=1, kernel=rbf ......................................\n[CV] ....................... C=100, gamma=1, kernel=rbf, total=   0.0s\n[CV] C=100, gamma=1, kernel=linear ...................................\n[CV] .................... C=100, gamma=1, kernel=linear, total=   0.0s\n[CV] C=100, gamma=1, kernel=linear ...................................\n[CV] .................... C=100, gamma=1, kernel=linear, total=   0.0s\n[CV] C=100, gamma=1, kernel=linear ...................................\n[CV] .................... C=100, gamma=1, kernel=linear, total=   0.0s\n[CV] C=100, gamma=1, kernel=sigmoid ..................................\n[CV] ................... C=100, gamma=1, kernel=sigmoid, total=   0.0s\n[CV] C=100, gamma=1, kernel=sigmoid ..................................\n[CV] ................... C=100, gamma=1, kernel=sigmoid, total=   0.0s\n[CV] C=100, gamma=1, kernel=sigmoid ..................................\n[CV] ................... C=100, gamma=1, kernel=sigmoid, total=   0.0s\n[CV] C=100, gamma=0.1, kernel=rbf ....................................\n[CV] ..................... C=100, gamma=0.1, kernel=rbf, total=   0.0s\n[CV] C=100, gamma=0.1, kernel=rbf ....................................\n[CV] ..................... C=100, gamma=0.1, kernel=rbf, total=   0.0s\n[CV] C=100, gamma=0.1, kernel=rbf ....................................\n[CV] ..................... C=100, gamma=0.1, kernel=rbf, total=   0.0s\n[CV] C=100, gamma=0.1, kernel=linear .................................\n[CV] .................. C=100, gamma=0.1, kernel=linear, total=   0.0s\n[CV] C=100, gamma=0.1, kernel=linear .................................\n[CV] .................. C=100, gamma=0.1, kernel=linear, total=   0.0s\n[CV] C=100, gamma=0.1, kernel=linear .................................\n[CV] .................. C=100, gamma=0.1, kernel=linear, total=   0.0s\n[CV] C=100, gamma=0.1, kernel=sigmoid ................................\n[CV] ................. C=100, gamma=0.1, kernel=sigmoid, total=   0.0s\n[CV] C=100, gamma=0.1, kernel=sigmoid ................................\n[CV] ................. C=100, gamma=0.1, kernel=sigmoid, total=   0.0s\n[CV] C=100, gamma=0.1, kernel=sigmoid ................................\n[CV] ................. C=100, gamma=0.1, kernel=sigmoid, total=   0.0s\n[CV] C=100, gamma=0.01, kernel=rbf ...................................\n[CV] .................... C=100, gamma=0.01, kernel=rbf, total=   0.0s\n[CV] C=100, gamma=0.01, kernel=rbf ...................................\n[CV] .................... C=100, gamma=0.01, kernel=rbf, total=   0.0s\n[CV] C=100, gamma=0.01, kernel=rbf ...................................\n[CV] .................... C=100, gamma=0.01, kernel=rbf, total=   0.0s\n[CV] C=100, gamma=0.01, kernel=linear ................................\n[CV] ................. C=100, gamma=0.01, kernel=linear, total=   0.0s\n[CV] C=100, gamma=0.01, kernel=linear ................................\n[CV] ................. C=100, gamma=0.01, kernel=linear, total=   0.0s\n[CV] C=100, gamma=0.01, kernel=linear ................................\n[CV] ................. C=100, gamma=0.01, kernel=linear, total=   0.0s\n[CV] C=100, gamma=0.01, kernel=sigmoid ...............................\n[CV] ................ C=100, gamma=0.01, kernel=sigmoid, total=   0.0s\n[CV] C=100, gamma=0.01, kernel=sigmoid ...............................\n[CV] ................ C=100, gamma=0.01, kernel=sigmoid, total=   0.0s\n[CV] C=100, gamma=0.01, kernel=sigmoid ...............................\n[CV] ................ C=100, gamma=0.01, kernel=sigmoid, total=   0.0s\n"
                },
                {
                    "name": "stderr",
                    "output_type": "stream",
                    "text": "[Parallel(n_jobs=1)]: Done 180 out of 180 | elapsed:    0.9s finished\n/opt/conda/envs/Python36/lib/python3.6/site-packages/sklearn/model_selection/_search.py:841: DeprecationWarning: The default of the `iid` parameter will change from True to False in version 0.22 and will be removed in 0.24. This will change numeric results when test-set sizes are unequal.\n  DeprecationWarning)\n"
                },
                {
                    "data": {
                        "text/plain": "GridSearchCV(cv='warn', error_score='raise-deprecating',\n       estimator=SVC(C=1.0, cache_size=200, class_weight=None, coef0=0.0,\n  decision_function_shape='ovr', degree=3, gamma='auto_deprecated',\n  kernel='rbf', max_iter=-1, probability=False, random_state=None,\n  shrinking=True, tol=0.001, verbose=False),\n       fit_params=None, iid='warn', n_jobs=None,\n       param_grid={'C': [0.01, 0.1, 1, 10, 100], 'gamma': [10, 1, 0.1, 0.01], 'kernel': ['rbf', 'linear', 'sigmoid']},\n       pre_dispatch='2*n_jobs', refit=True, return_train_score='warn',\n       scoring=None, verbose=2)"
                    },
                    "execution_count": 37,
                    "metadata": {},
                    "output_type": "execute_result"
                }
            ],
            "source": "grid.fit(X_trains,y_trains)"
        },
        {
            "cell_type": "code",
            "execution_count": 38,
            "metadata": {},
            "outputs": [
                {
                    "name": "stdout",
                    "output_type": "stream",
                    "text": "SVC(C=0.1, cache_size=200, class_weight=None, coef0=0.0,\n  decision_function_shape='ovr', degree=3, gamma=1, kernel='sigmoid',\n  max_iter=-1, probability=False, random_state=None, shrinking=True,\n  tol=0.001, verbose=False)\n"
                }
            ],
            "source": "print(grid.best_estimator_)"
        },
        {
            "cell_type": "code",
            "execution_count": 39,
            "metadata": {},
            "outputs": [
                {
                    "name": "stdout",
                    "output_type": "stream",
                    "text": "Avg F1-score: 0.6973\nJaccard score: 0.7143\n"
                }
            ],
            "source": "print(\"Avg F1-score: %.4f\" % f1_score(y_tests,grid.predict(X_tests), average='weighted'))\nprint(\"Jaccard score: %.4f\" % jaccard_similarity_score(y_tests,grid.predict(X_tests)))"
        },
        {
            "cell_type": "code",
            "execution_count": 40,
            "metadata": {},
            "outputs": [
                {
                    "name": "stdout",
                    "output_type": "stream",
                    "text": "Avg F1-score: 0.6973\nJaccard score: 0.7143\n"
                }
            ],
            "source": "clf2 = svm.SVC(C=0.1, cache_size=200, class_weight=None, coef0=0.0,\n  decision_function_shape='ovr', degree=3, gamma=1, kernel='sigmoid',\n  max_iter=-1, probability=False, random_state=None, shrinking=True,\n  tol=0.001, verbose=False)\nclf2.fit(X_trains, y_trains) \nyhat2s = clf2.predict(X_tests)\nprint(\"Avg F1-score: %.4f\" % f1_score(y_tests, yhat2s, average='weighted'))\nprint(\"Jaccard score: %.4f\" % jaccard_similarity_score(y_tests, yhat2s))"
        },
        {
            "cell_type": "code",
            "execution_count": 41,
            "metadata": {},
            "outputs": [],
            "source": "#clf3 = svm.SVC(kernel='poly')\n#clf3.fit(X_trains, y_trains) \n#yhat3s = clf3.predict(X_tests)\n#print(\"Avg F1-score: %.4f\" % f1_score(y_tests, yhat3s, average='weighted'))\n#print(\"Jaccard score: %.4f\" % jaccard_similarity_score(y_tests, yhat3s))"
        },
        {
            "cell_type": "markdown",
            "metadata": {},
            "source": "# Logistic Regression"
        },
        {
            "cell_type": "code",
            "execution_count": 42,
            "metadata": {},
            "outputs": [
                {
                    "name": "stdout",
                    "output_type": "stream",
                    "text": "Train set: (276, 8) (276,)\nTest set: (70, 8) (70,)\n"
                }
            ],
            "source": "X_trainl, X_testl, y_trainl, y_testl = train_test_split( X, y, test_size=0.2, random_state=4)\nprint ('Train set:', X_trainl.shape,  y_trainl.shape)\nprint ('Test set:', X_testl.shape,  y_testl.shape)"
        },
        {
            "cell_type": "code",
            "execution_count": 43,
            "metadata": {},
            "outputs": [
                {
                    "data": {
                        "text/plain": "array(['PAIDOFF', 'PAIDOFF', 'PAIDOFF', 'PAIDOFF', 'PAIDOFF', 'PAIDOFF',\n       'PAIDOFF', 'PAIDOFF', 'PAIDOFF', 'PAIDOFF', 'PAIDOFF', 'PAIDOFF',\n       'PAIDOFF', 'PAIDOFF', 'PAIDOFF', 'PAIDOFF', 'COLLECTION',\n       'PAIDOFF', 'PAIDOFF', 'PAIDOFF', 'PAIDOFF', 'PAIDOFF',\n       'COLLECTION', 'PAIDOFF', 'PAIDOFF', 'COLLECTION', 'COLLECTION',\n       'PAIDOFF', 'PAIDOFF', 'PAIDOFF', 'PAIDOFF', 'PAIDOFF', 'PAIDOFF',\n       'PAIDOFF', 'PAIDOFF', 'PAIDOFF', 'PAIDOFF', 'PAIDOFF', 'PAIDOFF',\n       'PAIDOFF', 'COLLECTION', 'PAIDOFF', 'PAIDOFF', 'COLLECTION',\n       'PAIDOFF', 'PAIDOFF', 'PAIDOFF', 'PAIDOFF', 'PAIDOFF', 'PAIDOFF',\n       'PAIDOFF', 'PAIDOFF', 'PAIDOFF', 'PAIDOFF', 'PAIDOFF', 'PAIDOFF',\n       'PAIDOFF', 'PAIDOFF', 'PAIDOFF', 'PAIDOFF', 'PAIDOFF', 'PAIDOFF',\n       'PAIDOFF', 'COLLECTION', 'PAIDOFF', 'PAIDOFF', 'PAIDOFF',\n       'PAIDOFF', 'PAIDOFF', 'PAIDOFF'], dtype=object)"
                    },
                    "execution_count": 43,
                    "metadata": {},
                    "output_type": "execute_result"
                }
            ],
            "source": "from sklearn.linear_model import LogisticRegression\nfrom sklearn.model_selection import GridSearchCV\nfrom sklearn.metrics import confusion_matrix\nLR = LogisticRegression(C=0.1, solver='liblinear').fit(X_trainl,y_trainl)\nyhatl = LR.predict(X_testl)\nyhatl"
        },
        {
            "cell_type": "code",
            "execution_count": 44,
            "metadata": {},
            "outputs": [
                {
                    "data": {
                        "text/plain": "array([[0.49764135, 0.50235865],\n       [0.4030356 , 0.5969644 ],\n       [0.11727277, 0.88272723],\n       [0.16310134, 0.83689866],\n       [0.12757055, 0.87242945],\n       [0.12970143, 0.87029857],\n       [0.45467396, 0.54532604],\n       [0.42636056, 0.57363944],\n       [0.16310134, 0.83689866],\n       [0.47576977, 0.52423023],\n       [0.15540962, 0.84459038],\n       [0.4735713 , 0.5264287 ],\n       [0.08300149, 0.91699851],\n       [0.16449766, 0.83550234],\n       [0.32765274, 0.67234726],\n       [0.06980411, 0.93019589],\n       [0.5548756 , 0.4451244 ],\n       [0.11044887, 0.88955113],\n       [0.14801647, 0.85198353],\n       [0.12870947, 0.87129053],\n       [0.33452475, 0.66547525],\n       [0.46641527, 0.53358473],\n       [0.52634501, 0.47365499],\n       [0.41754517, 0.58245483],\n       [0.28537577, 0.71462423],\n       [0.51200308, 0.48799692],\n       [0.519178  , 0.480822  ],\n       [0.22237206, 0.77762794],\n       [0.49509288, 0.50490712],\n       [0.05824681, 0.94175319],\n       [0.40509554, 0.59490446],\n       [0.38067272, 0.61932728],\n       [0.43096374, 0.56903626],\n       [0.43795791, 0.56204209],\n       [0.26768319, 0.73231681],\n       [0.37773098, 0.62226902],\n       [0.48791305, 0.51208695],\n       [0.09419928, 0.90580072],\n       [0.37631297, 0.62368703],\n       [0.38174457, 0.61825543],\n       [0.50227473, 0.49772527],\n       [0.13196564, 0.86803436],\n       [0.36668796, 0.63331204],\n       [0.51200308, 0.48799692],\n       [0.11330315, 0.88669685],\n       [0.49437515, 0.50562485],\n       [0.41203726, 0.58796274],\n       [0.4735713 , 0.5264287 ],\n       [0.37100252, 0.62899748],\n       [0.37658605, 0.62341395],\n       [0.08597353, 0.91402647],\n       [0.41332684, 0.58667316],\n       [0.13199564, 0.86800436],\n       [0.45214748, 0.54785252],\n       [0.12676586, 0.87323414],\n       [0.06309094, 0.93690906],\n       [0.12240242, 0.87759758],\n       [0.30334257, 0.69665743],\n       [0.40509554, 0.59490446],\n       [0.15299244, 0.84700756],\n       [0.27656163, 0.72343837],\n       [0.14443015, 0.85556985],\n       [0.37773098, 0.62226902],\n       [0.56195946, 0.43804054],\n       [0.1352914 , 0.8647086 ],\n       [0.46641527, 0.53358473],\n       [0.14443015, 0.85556985],\n       [0.28140016, 0.71859984],\n       [0.3600424 , 0.6399576 ],\n       [0.1352914 , 0.8647086 ]])"
                    },
                    "execution_count": 44,
                    "metadata": {},
                    "output_type": "execute_result"
                }
            ],
            "source": "yhat_prob = LR.predict_proba(X_testl)\nyhat_prob"
        },
        {
            "cell_type": "code",
            "execution_count": 45,
            "metadata": {},
            "outputs": [
                {
                    "name": "stdout",
                    "output_type": "stream",
                    "text": "Avg F1-score: 0.7048\nJaccard score: 0.7429\nLogLoss: : 0.50\n"
                }
            ],
            "source": "from sklearn.metrics import log_loss\nprint(\"Avg F1-score: %.4f\" % f1_score(y_testl, yhatl, average='weighted'))\nprint(\"Jaccard score: %.4f\" % jaccard_similarity_score(y_testl, yhatl))\nprint (\"LogLoss: : %.2f\" % log_loss(y_testl, yhat_prob))"
        },
        {
            "cell_type": "code",
            "execution_count": 46,
            "metadata": {},
            "outputs": [],
            "source": "grid={\"C\":np.logspace(-3,3,7), \"solver\":[\"liblinear\",\"sag\",\"newton-cg\",\"lbfgs\"]}\nLRf=GridSearchCV(LogisticRegression(),grid,cv=10)"
        },
        {
            "cell_type": "code",
            "execution_count": 47,
            "metadata": {},
            "outputs": [
                {
                    "name": "stderr",
                    "output_type": "stream",
                    "text": "/opt/conda/envs/Python36/lib/python3.6/site-packages/sklearn/linear_model/sag.py:334: ConvergenceWarning: The max_iter was reached which means the coef_ did not converge\n  \"the coef_ did not converge\", ConvergenceWarning)\n/opt/conda/envs/Python36/lib/python3.6/site-packages/sklearn/linear_model/sag.py:334: ConvergenceWarning: The max_iter was reached which means the coef_ did not converge\n  \"the coef_ did not converge\", ConvergenceWarning)\n/opt/conda/envs/Python36/lib/python3.6/site-packages/sklearn/linear_model/sag.py:334: ConvergenceWarning: The max_iter was reached which means the coef_ did not converge\n  \"the coef_ did not converge\", ConvergenceWarning)\n/opt/conda/envs/Python36/lib/python3.6/site-packages/sklearn/linear_model/sag.py:334: ConvergenceWarning: The max_iter was reached which means the coef_ did not converge\n  \"the coef_ did not converge\", ConvergenceWarning)\n/opt/conda/envs/Python36/lib/python3.6/site-packages/sklearn/linear_model/sag.py:334: ConvergenceWarning: The max_iter was reached which means the coef_ did not converge\n  \"the coef_ did not converge\", ConvergenceWarning)\n/opt/conda/envs/Python36/lib/python3.6/site-packages/sklearn/linear_model/sag.py:334: ConvergenceWarning: The max_iter was reached which means the coef_ did not converge\n  \"the coef_ did not converge\", ConvergenceWarning)\n/opt/conda/envs/Python36/lib/python3.6/site-packages/sklearn/linear_model/sag.py:334: ConvergenceWarning: The max_iter was reached which means the coef_ did not converge\n  \"the coef_ did not converge\", ConvergenceWarning)\n/opt/conda/envs/Python36/lib/python3.6/site-packages/sklearn/linear_model/sag.py:334: ConvergenceWarning: The max_iter was reached which means the coef_ did not converge\n  \"the coef_ did not converge\", ConvergenceWarning)\n/opt/conda/envs/Python36/lib/python3.6/site-packages/sklearn/linear_model/sag.py:334: ConvergenceWarning: The max_iter was reached which means the coef_ did not converge\n  \"the coef_ did not converge\", ConvergenceWarning)\n/opt/conda/envs/Python36/lib/python3.6/site-packages/sklearn/linear_model/sag.py:334: ConvergenceWarning: The max_iter was reached which means the coef_ did not converge\n  \"the coef_ did not converge\", ConvergenceWarning)\n/opt/conda/envs/Python36/lib/python3.6/site-packages/sklearn/linear_model/sag.py:334: ConvergenceWarning: The max_iter was reached which means the coef_ did not converge\n  \"the coef_ did not converge\", ConvergenceWarning)\n/opt/conda/envs/Python36/lib/python3.6/site-packages/sklearn/linear_model/sag.py:334: ConvergenceWarning: The max_iter was reached which means the coef_ did not converge\n  \"the coef_ did not converge\", ConvergenceWarning)\n/opt/conda/envs/Python36/lib/python3.6/site-packages/sklearn/linear_model/sag.py:334: ConvergenceWarning: The max_iter was reached which means the coef_ did not converge\n  \"the coef_ did not converge\", ConvergenceWarning)\n/opt/conda/envs/Python36/lib/python3.6/site-packages/sklearn/linear_model/sag.py:334: ConvergenceWarning: The max_iter was reached which means the coef_ did not converge\n  \"the coef_ did not converge\", ConvergenceWarning)\n/opt/conda/envs/Python36/lib/python3.6/site-packages/sklearn/linear_model/sag.py:334: ConvergenceWarning: The max_iter was reached which means the coef_ did not converge\n  \"the coef_ did not converge\", ConvergenceWarning)\n/opt/conda/envs/Python36/lib/python3.6/site-packages/sklearn/linear_model/sag.py:334: ConvergenceWarning: The max_iter was reached which means the coef_ did not converge\n  \"the coef_ did not converge\", ConvergenceWarning)\n/opt/conda/envs/Python36/lib/python3.6/site-packages/sklearn/linear_model/sag.py:334: ConvergenceWarning: The max_iter was reached which means the coef_ did not converge\n  \"the coef_ did not converge\", ConvergenceWarning)\n/opt/conda/envs/Python36/lib/python3.6/site-packages/sklearn/linear_model/sag.py:334: ConvergenceWarning: The max_iter was reached which means the coef_ did not converge\n  \"the coef_ did not converge\", ConvergenceWarning)\n/opt/conda/envs/Python36/lib/python3.6/site-packages/sklearn/linear_model/sag.py:334: ConvergenceWarning: The max_iter was reached which means the coef_ did not converge\n  \"the coef_ did not converge\", ConvergenceWarning)\n/opt/conda/envs/Python36/lib/python3.6/site-packages/sklearn/linear_model/sag.py:334: ConvergenceWarning: The max_iter was reached which means the coef_ did not converge\n  \"the coef_ did not converge\", ConvergenceWarning)\n/opt/conda/envs/Python36/lib/python3.6/site-packages/sklearn/linear_model/sag.py:334: ConvergenceWarning: The max_iter was reached which means the coef_ did not converge\n  \"the coef_ did not converge\", ConvergenceWarning)\n/opt/conda/envs/Python36/lib/python3.6/site-packages/sklearn/linear_model/sag.py:334: ConvergenceWarning: The max_iter was reached which means the coef_ did not converge\n  \"the coef_ did not converge\", ConvergenceWarning)\n/opt/conda/envs/Python36/lib/python3.6/site-packages/sklearn/linear_model/sag.py:334: ConvergenceWarning: The max_iter was reached which means the coef_ did not converge\n  \"the coef_ did not converge\", ConvergenceWarning)\n/opt/conda/envs/Python36/lib/python3.6/site-packages/sklearn/linear_model/sag.py:334: ConvergenceWarning: The max_iter was reached which means the coef_ did not converge\n  \"the coef_ did not converge\", ConvergenceWarning)\n/opt/conda/envs/Python36/lib/python3.6/site-packages/sklearn/linear_model/sag.py:334: ConvergenceWarning: The max_iter was reached which means the coef_ did not converge\n  \"the coef_ did not converge\", ConvergenceWarning)\n/opt/conda/envs/Python36/lib/python3.6/site-packages/sklearn/linear_model/sag.py:334: ConvergenceWarning: The max_iter was reached which means the coef_ did not converge\n  \"the coef_ did not converge\", ConvergenceWarning)\n/opt/conda/envs/Python36/lib/python3.6/site-packages/sklearn/linear_model/sag.py:334: ConvergenceWarning: The max_iter was reached which means the coef_ did not converge\n  \"the coef_ did not converge\", ConvergenceWarning)\n"
                },
                {
                    "name": "stdout",
                    "output_type": "stream",
                    "text": "tuned hpyerparameters :(best parameters)  {'C': 0.1, 'solver': 'liblinear'}\nAvg F1-score: 0.7048\nJaccard score: 0.7429\nLogLoss: : 0.50\n"
                },
                {
                    "name": "stderr",
                    "output_type": "stream",
                    "text": "/opt/conda/envs/Python36/lib/python3.6/site-packages/sklearn/model_selection/_search.py:841: DeprecationWarning: The default of the `iid` parameter will change from True to False in version 0.22 and will be removed in 0.24. This will change numeric results when test-set sizes are unequal.\n  DeprecationWarning)\n"
                }
            ],
            "source": "LRf.fit(X_trainl,y_trainl)\nprint(\"tuned hpyerparameters :(best parameters) \",LRf.best_params_)\nprint(\"Avg F1-score: %.4f\" % f1_score(y_testl, LRf.predict(X_testl), average='weighted'))\nprint(\"Jaccard score: %.4f\" % jaccard_similarity_score(y_testl, LRf.predict(X_testl)))\nprint (\"LogLoss: : %.2f\" % log_loss(y_testl, LRf.predict_proba(X_testl)))"
        },
        {
            "cell_type": "code",
            "execution_count": 48,
            "metadata": {},
            "outputs": [
                {
                    "name": "stdout",
                    "output_type": "stream",
                    "text": "LogLoss: : 0.49\n"
                }
            ],
            "source": "LR2 = LogisticRegression(C=0.01, solver='sag').fit(X_trainl,y_trainl)\nyhat_prob2 = LR2.predict_proba(X_testl)\nprint (\"LogLoss: : %.2f\" % log_loss(y_testl, yhat_prob2))"
        },
        {
            "cell_type": "code",
            "execution_count": 49,
            "metadata": {},
            "outputs": [
                {
                    "name": "stdout",
                    "output_type": "stream",
                    "text": "LogLoss: : 0.49\n"
                }
            ],
            "source": "LR3 = LogisticRegression(C=0.01, solver='newton-cg').fit(X_trainl,y_trainl)\nyhat_prob3 = LR3.predict_proba(X_testl)\nprint (\"LogLoss: : %.2f\" % log_loss(y_testl, yhat_prob3))"
        },
        {
            "cell_type": "code",
            "execution_count": 50,
            "metadata": {},
            "outputs": [
                {
                    "name": "stdout",
                    "output_type": "stream",
                    "text": "LogLoss: : 0.49\n"
                }
            ],
            "source": "LR4 = LogisticRegression(C=0.01, solver='lbfgs').fit(X_trainl,y_trainl)\nyhat_prob4 = LR4.predict_proba(X_testl)\nprint (\"LogLoss: : %.2f\" % log_loss(y_testl, yhat_prob4))"
        },
        {
            "cell_type": "markdown",
            "metadata": {},
            "source": "# Model Evaluation using Test set"
        },
        {
            "cell_type": "code",
            "execution_count": 51,
            "metadata": {},
            "outputs": [],
            "source": "from sklearn.metrics import jaccard_similarity_score\nfrom sklearn.metrics import f1_score\nfrom sklearn.metrics import log_loss"
        },
        {
            "cell_type": "markdown",
            "metadata": {},
            "source": "First, download and load the test set:"
        },
        {
            "cell_type": "code",
            "execution_count": 52,
            "metadata": {},
            "outputs": [
                {
                    "name": "stdout",
                    "output_type": "stream",
                    "text": "--2020-07-01 16:46:12--  https://s3-api.us-geo.objectstorage.softlayer.net/cf-courses-data/CognitiveClass/ML0101ENv3/labs/loan_test.csv\nResolving s3-api.us-geo.objectstorage.softlayer.net (s3-api.us-geo.objectstorage.softlayer.net)... 67.228.254.196\nConnecting to s3-api.us-geo.objectstorage.softlayer.net (s3-api.us-geo.objectstorage.softlayer.net)|67.228.254.196|:443... connected.\nHTTP request sent, awaiting response... 200 OK\nLength: 3642 (3.6K) [text/csv]\nSaving to: \u2018loan_test.csv\u2019\n\n100%[======================================>] 3,642       --.-K/s   in 0s      \n\n2020-07-01 16:46:12 (390 MB/s) - \u2018loan_test.csv\u2019 saved [3642/3642]\n\n"
                }
            ],
            "source": "!wget -O loan_test.csv https://s3-api.us-geo.objectstorage.softlayer.net/cf-courses-data/CognitiveClass/ML0101ENv3/labs/loan_test.csv"
        },
        {
            "cell_type": "markdown",
            "metadata": {
                "button": false,
                "new_sheet": false,
                "run_control": {
                    "read_only": false
                }
            },
            "source": "### Load Test set for evaluation "
        },
        {
            "cell_type": "code",
            "execution_count": 53,
            "metadata": {
                "button": false,
                "new_sheet": false,
                "run_control": {
                    "read_only": false
                }
            },
            "outputs": [
                {
                    "data": {
                        "text/html": "<div>\n<style scoped>\n    .dataframe tbody tr th:only-of-type {\n        vertical-align: middle;\n    }\n\n    .dataframe tbody tr th {\n        vertical-align: top;\n    }\n\n    .dataframe thead th {\n        text-align: right;\n    }\n</style>\n<table border=\"1\" class=\"dataframe\">\n  <thead>\n    <tr style=\"text-align: right;\">\n      <th></th>\n      <th>Unnamed: 0</th>\n      <th>Unnamed: 0.1</th>\n      <th>loan_status</th>\n      <th>Principal</th>\n      <th>terms</th>\n      <th>effective_date</th>\n      <th>due_date</th>\n      <th>age</th>\n      <th>education</th>\n      <th>Gender</th>\n    </tr>\n  </thead>\n  <tbody>\n    <tr>\n      <th>0</th>\n      <td>1</td>\n      <td>1</td>\n      <td>PAIDOFF</td>\n      <td>1000</td>\n      <td>30</td>\n      <td>9/8/2016</td>\n      <td>10/7/2016</td>\n      <td>50</td>\n      <td>Bechalor</td>\n      <td>female</td>\n    </tr>\n    <tr>\n      <th>1</th>\n      <td>5</td>\n      <td>5</td>\n      <td>PAIDOFF</td>\n      <td>300</td>\n      <td>7</td>\n      <td>9/9/2016</td>\n      <td>9/15/2016</td>\n      <td>35</td>\n      <td>Master or Above</td>\n      <td>male</td>\n    </tr>\n    <tr>\n      <th>2</th>\n      <td>21</td>\n      <td>21</td>\n      <td>PAIDOFF</td>\n      <td>1000</td>\n      <td>30</td>\n      <td>9/10/2016</td>\n      <td>10/9/2016</td>\n      <td>43</td>\n      <td>High School or Below</td>\n      <td>female</td>\n    </tr>\n    <tr>\n      <th>3</th>\n      <td>24</td>\n      <td>24</td>\n      <td>PAIDOFF</td>\n      <td>1000</td>\n      <td>30</td>\n      <td>9/10/2016</td>\n      <td>10/9/2016</td>\n      <td>26</td>\n      <td>college</td>\n      <td>male</td>\n    </tr>\n    <tr>\n      <th>4</th>\n      <td>35</td>\n      <td>35</td>\n      <td>PAIDOFF</td>\n      <td>800</td>\n      <td>15</td>\n      <td>9/11/2016</td>\n      <td>9/25/2016</td>\n      <td>29</td>\n      <td>Bechalor</td>\n      <td>male</td>\n    </tr>\n  </tbody>\n</table>\n</div>",
                        "text/plain": "   Unnamed: 0  Unnamed: 0.1 loan_status  Principal  terms effective_date  \\\n0           1             1     PAIDOFF       1000     30       9/8/2016   \n1           5             5     PAIDOFF        300      7       9/9/2016   \n2          21            21     PAIDOFF       1000     30      9/10/2016   \n3          24            24     PAIDOFF       1000     30      9/10/2016   \n4          35            35     PAIDOFF        800     15      9/11/2016   \n\n    due_date  age             education  Gender  \n0  10/7/2016   50              Bechalor  female  \n1  9/15/2016   35       Master or Above    male  \n2  10/9/2016   43  High School or Below  female  \n3  10/9/2016   26               college    male  \n4  9/25/2016   29              Bechalor    male  "
                    },
                    "execution_count": 53,
                    "metadata": {},
                    "output_type": "execute_result"
                }
            ],
            "source": "test_df = pd.read_csv('loan_test.csv')\ntest_df.head()"
        },
        {
            "cell_type": "code",
            "execution_count": 54,
            "metadata": {},
            "outputs": [
                {
                    "data": {
                        "text/html": "<div>\n<style scoped>\n    .dataframe tbody tr th:only-of-type {\n        vertical-align: middle;\n    }\n\n    .dataframe tbody tr th {\n        vertical-align: top;\n    }\n\n    .dataframe thead th {\n        text-align: right;\n    }\n</style>\n<table border=\"1\" class=\"dataframe\">\n  <thead>\n    <tr style=\"text-align: right;\">\n      <th></th>\n      <th>Unnamed: 0</th>\n      <th>Unnamed: 0.1</th>\n      <th>loan_status</th>\n      <th>Principal</th>\n      <th>terms</th>\n      <th>effective_date</th>\n      <th>due_date</th>\n      <th>age</th>\n      <th>education</th>\n      <th>Gender</th>\n    </tr>\n  </thead>\n  <tbody>\n    <tr>\n      <th>0</th>\n      <td>1</td>\n      <td>1</td>\n      <td>PAIDOFF</td>\n      <td>1000</td>\n      <td>30</td>\n      <td>2016-09-08</td>\n      <td>2016-10-07</td>\n      <td>50</td>\n      <td>Bechalor</td>\n      <td>female</td>\n    </tr>\n    <tr>\n      <th>1</th>\n      <td>5</td>\n      <td>5</td>\n      <td>PAIDOFF</td>\n      <td>300</td>\n      <td>7</td>\n      <td>2016-09-09</td>\n      <td>2016-09-15</td>\n      <td>35</td>\n      <td>Master or Above</td>\n      <td>male</td>\n    </tr>\n    <tr>\n      <th>2</th>\n      <td>21</td>\n      <td>21</td>\n      <td>PAIDOFF</td>\n      <td>1000</td>\n      <td>30</td>\n      <td>2016-09-10</td>\n      <td>2016-10-09</td>\n      <td>43</td>\n      <td>High School or Below</td>\n      <td>female</td>\n    </tr>\n    <tr>\n      <th>3</th>\n      <td>24</td>\n      <td>24</td>\n      <td>PAIDOFF</td>\n      <td>1000</td>\n      <td>30</td>\n      <td>2016-09-10</td>\n      <td>2016-10-09</td>\n      <td>26</td>\n      <td>college</td>\n      <td>male</td>\n    </tr>\n    <tr>\n      <th>4</th>\n      <td>35</td>\n      <td>35</td>\n      <td>PAIDOFF</td>\n      <td>800</td>\n      <td>15</td>\n      <td>2016-09-11</td>\n      <td>2016-09-25</td>\n      <td>29</td>\n      <td>Bechalor</td>\n      <td>male</td>\n    </tr>\n  </tbody>\n</table>\n</div>",
                        "text/plain": "   Unnamed: 0  Unnamed: 0.1 loan_status  Principal  terms effective_date  \\\n0           1             1     PAIDOFF       1000     30     2016-09-08   \n1           5             5     PAIDOFF        300      7     2016-09-09   \n2          21            21     PAIDOFF       1000     30     2016-09-10   \n3          24            24     PAIDOFF       1000     30     2016-09-10   \n4          35            35     PAIDOFF        800     15     2016-09-11   \n\n    due_date  age             education  Gender  \n0 2016-10-07   50              Bechalor  female  \n1 2016-09-15   35       Master or Above    male  \n2 2016-10-09   43  High School or Below  female  \n3 2016-10-09   26               college    male  \n4 2016-09-25   29              Bechalor    male  "
                    },
                    "execution_count": 54,
                    "metadata": {},
                    "output_type": "execute_result"
                }
            ],
            "source": "test_df['due_date'] = pd.to_datetime(test_df['due_date'])\ntest_df['effective_date'] = pd.to_datetime(test_df['effective_date'])\ntest_df.head()"
        },
        {
            "cell_type": "code",
            "execution_count": 55,
            "metadata": {},
            "outputs": [
                {
                    "data": {
                        "text/html": "<div>\n<style scoped>\n    .dataframe tbody tr th:only-of-type {\n        vertical-align: middle;\n    }\n\n    .dataframe tbody tr th {\n        vertical-align: top;\n    }\n\n    .dataframe thead th {\n        text-align: right;\n    }\n</style>\n<table border=\"1\" class=\"dataframe\">\n  <thead>\n    <tr style=\"text-align: right;\">\n      <th></th>\n      <th>Unnamed: 0</th>\n      <th>Unnamed: 0.1</th>\n      <th>loan_status</th>\n      <th>Principal</th>\n      <th>terms</th>\n      <th>effective_date</th>\n      <th>due_date</th>\n      <th>age</th>\n      <th>education</th>\n      <th>Gender</th>\n      <th>dayofweek</th>\n      <th>weekend</th>\n    </tr>\n  </thead>\n  <tbody>\n    <tr>\n      <th>0</th>\n      <td>1</td>\n      <td>1</td>\n      <td>PAIDOFF</td>\n      <td>1000</td>\n      <td>30</td>\n      <td>2016-09-08</td>\n      <td>2016-10-07</td>\n      <td>50</td>\n      <td>Bechalor</td>\n      <td>female</td>\n      <td>3</td>\n      <td>0</td>\n    </tr>\n    <tr>\n      <th>1</th>\n      <td>5</td>\n      <td>5</td>\n      <td>PAIDOFF</td>\n      <td>300</td>\n      <td>7</td>\n      <td>2016-09-09</td>\n      <td>2016-09-15</td>\n      <td>35</td>\n      <td>Master or Above</td>\n      <td>male</td>\n      <td>4</td>\n      <td>0</td>\n    </tr>\n    <tr>\n      <th>2</th>\n      <td>21</td>\n      <td>21</td>\n      <td>PAIDOFF</td>\n      <td>1000</td>\n      <td>30</td>\n      <td>2016-09-10</td>\n      <td>2016-10-09</td>\n      <td>43</td>\n      <td>High School or Below</td>\n      <td>female</td>\n      <td>5</td>\n      <td>1</td>\n    </tr>\n    <tr>\n      <th>3</th>\n      <td>24</td>\n      <td>24</td>\n      <td>PAIDOFF</td>\n      <td>1000</td>\n      <td>30</td>\n      <td>2016-09-10</td>\n      <td>2016-10-09</td>\n      <td>26</td>\n      <td>college</td>\n      <td>male</td>\n      <td>5</td>\n      <td>1</td>\n    </tr>\n    <tr>\n      <th>4</th>\n      <td>35</td>\n      <td>35</td>\n      <td>PAIDOFF</td>\n      <td>800</td>\n      <td>15</td>\n      <td>2016-09-11</td>\n      <td>2016-09-25</td>\n      <td>29</td>\n      <td>Bechalor</td>\n      <td>male</td>\n      <td>6</td>\n      <td>1</td>\n    </tr>\n  </tbody>\n</table>\n</div>",
                        "text/plain": "   Unnamed: 0  Unnamed: 0.1 loan_status  Principal  terms effective_date  \\\n0           1             1     PAIDOFF       1000     30     2016-09-08   \n1           5             5     PAIDOFF        300      7     2016-09-09   \n2          21            21     PAIDOFF       1000     30     2016-09-10   \n3          24            24     PAIDOFF       1000     30     2016-09-10   \n4          35            35     PAIDOFF        800     15     2016-09-11   \n\n    due_date  age             education  Gender  dayofweek  weekend  \n0 2016-10-07   50              Bechalor  female          3        0  \n1 2016-09-15   35       Master or Above    male          4        0  \n2 2016-10-09   43  High School or Below  female          5        1  \n3 2016-10-09   26               college    male          5        1  \n4 2016-09-25   29              Bechalor    male          6        1  "
                    },
                    "execution_count": 55,
                    "metadata": {},
                    "output_type": "execute_result"
                }
            ],
            "source": "test_df['dayofweek'] = test_df['effective_date'].dt.dayofweek\ntest_df['weekend'] = test_df['dayofweek'].apply(lambda x: 1 if (x>4)  else 0)\ntest_df.head()"
        },
        {
            "cell_type": "code",
            "execution_count": 56,
            "metadata": {},
            "outputs": [
                {
                    "data": {
                        "text/html": "<div>\n<style scoped>\n    .dataframe tbody tr th:only-of-type {\n        vertical-align: middle;\n    }\n\n    .dataframe tbody tr th {\n        vertical-align: top;\n    }\n\n    .dataframe thead th {\n        text-align: right;\n    }\n</style>\n<table border=\"1\" class=\"dataframe\">\n  <thead>\n    <tr style=\"text-align: right;\">\n      <th></th>\n      <th>Unnamed: 0</th>\n      <th>Unnamed: 0.1</th>\n      <th>loan_status</th>\n      <th>Principal</th>\n      <th>terms</th>\n      <th>effective_date</th>\n      <th>due_date</th>\n      <th>age</th>\n      <th>education</th>\n      <th>Gender</th>\n      <th>dayofweek</th>\n      <th>weekend</th>\n    </tr>\n  </thead>\n  <tbody>\n    <tr>\n      <th>0</th>\n      <td>1</td>\n      <td>1</td>\n      <td>PAIDOFF</td>\n      <td>1000</td>\n      <td>30</td>\n      <td>2016-09-08</td>\n      <td>2016-10-07</td>\n      <td>50</td>\n      <td>Bechalor</td>\n      <td>1</td>\n      <td>3</td>\n      <td>0</td>\n    </tr>\n    <tr>\n      <th>1</th>\n      <td>5</td>\n      <td>5</td>\n      <td>PAIDOFF</td>\n      <td>300</td>\n      <td>7</td>\n      <td>2016-09-09</td>\n      <td>2016-09-15</td>\n      <td>35</td>\n      <td>Master or Above</td>\n      <td>0</td>\n      <td>4</td>\n      <td>0</td>\n    </tr>\n    <tr>\n      <th>2</th>\n      <td>21</td>\n      <td>21</td>\n      <td>PAIDOFF</td>\n      <td>1000</td>\n      <td>30</td>\n      <td>2016-09-10</td>\n      <td>2016-10-09</td>\n      <td>43</td>\n      <td>High School or Below</td>\n      <td>1</td>\n      <td>5</td>\n      <td>1</td>\n    </tr>\n    <tr>\n      <th>3</th>\n      <td>24</td>\n      <td>24</td>\n      <td>PAIDOFF</td>\n      <td>1000</td>\n      <td>30</td>\n      <td>2016-09-10</td>\n      <td>2016-10-09</td>\n      <td>26</td>\n      <td>college</td>\n      <td>0</td>\n      <td>5</td>\n      <td>1</td>\n    </tr>\n    <tr>\n      <th>4</th>\n      <td>35</td>\n      <td>35</td>\n      <td>PAIDOFF</td>\n      <td>800</td>\n      <td>15</td>\n      <td>2016-09-11</td>\n      <td>2016-09-25</td>\n      <td>29</td>\n      <td>Bechalor</td>\n      <td>0</td>\n      <td>6</td>\n      <td>1</td>\n    </tr>\n  </tbody>\n</table>\n</div>",
                        "text/plain": "   Unnamed: 0  Unnamed: 0.1 loan_status  Principal  terms effective_date  \\\n0           1             1     PAIDOFF       1000     30     2016-09-08   \n1           5             5     PAIDOFF        300      7     2016-09-09   \n2          21            21     PAIDOFF       1000     30     2016-09-10   \n3          24            24     PAIDOFF       1000     30     2016-09-10   \n4          35            35     PAIDOFF        800     15     2016-09-11   \n\n    due_date  age             education  Gender  dayofweek  weekend  \n0 2016-10-07   50              Bechalor       1          3        0  \n1 2016-09-15   35       Master or Above       0          4        0  \n2 2016-10-09   43  High School or Below       1          5        1  \n3 2016-10-09   26               college       0          5        1  \n4 2016-09-25   29              Bechalor       0          6        1  "
                    },
                    "execution_count": 56,
                    "metadata": {},
                    "output_type": "execute_result"
                }
            ],
            "source": "test_df['Gender'].replace(to_replace=['male','female'], value=[0,1],inplace=True)\ntest_df.head()"
        },
        {
            "cell_type": "code",
            "execution_count": 57,
            "metadata": {},
            "outputs": [
                {
                    "data": {
                        "text/html": "<div>\n<style scoped>\n    .dataframe tbody tr th:only-of-type {\n        vertical-align: middle;\n    }\n\n    .dataframe tbody tr th {\n        vertical-align: top;\n    }\n\n    .dataframe thead th {\n        text-align: right;\n    }\n</style>\n<table border=\"1\" class=\"dataframe\">\n  <thead>\n    <tr style=\"text-align: right;\">\n      <th></th>\n      <th>Principal</th>\n      <th>age</th>\n      <th>Gender</th>\n      <th>terms</th>\n      <th>weekend</th>\n      <th>Bechalor</th>\n      <th>High School or Below</th>\n      <th>college</th>\n    </tr>\n  </thead>\n  <tbody>\n    <tr>\n      <th>0</th>\n      <td>1000</td>\n      <td>50</td>\n      <td>1</td>\n      <td>30</td>\n      <td>0</td>\n      <td>1</td>\n      <td>0</td>\n      <td>0</td>\n    </tr>\n    <tr>\n      <th>1</th>\n      <td>300</td>\n      <td>35</td>\n      <td>0</td>\n      <td>7</td>\n      <td>0</td>\n      <td>0</td>\n      <td>0</td>\n      <td>0</td>\n    </tr>\n    <tr>\n      <th>2</th>\n      <td>1000</td>\n      <td>43</td>\n      <td>1</td>\n      <td>30</td>\n      <td>1</td>\n      <td>0</td>\n      <td>1</td>\n      <td>0</td>\n    </tr>\n    <tr>\n      <th>3</th>\n      <td>1000</td>\n      <td>26</td>\n      <td>0</td>\n      <td>30</td>\n      <td>1</td>\n      <td>0</td>\n      <td>0</td>\n      <td>1</td>\n    </tr>\n    <tr>\n      <th>4</th>\n      <td>800</td>\n      <td>29</td>\n      <td>0</td>\n      <td>15</td>\n      <td>1</td>\n      <td>1</td>\n      <td>0</td>\n      <td>0</td>\n    </tr>\n  </tbody>\n</table>\n</div>",
                        "text/plain": "   Principal  age  Gender  terms  weekend  Bechalor  High School or Below  \\\n0       1000   50       1     30        0         1                     0   \n1        300   35       0      7        0         0                     0   \n2       1000   43       1     30        1         0                     1   \n3       1000   26       0     30        1         0                     0   \n4        800   29       0     15        1         1                     0   \n\n   college  \n0        0  \n1        0  \n2        0  \n3        1  \n4        0  "
                    },
                    "execution_count": 57,
                    "metadata": {},
                    "output_type": "execute_result"
                }
            ],
            "source": "Feature = test_df[['Principal','age','Gender','terms','weekend']]\nFeature = pd.concat([Feature,pd.get_dummies(test_df['education'])], axis=1)\nFeature.drop(['Master or Above'], axis = 1,inplace=True)\nFeature.head()\n"
        },
        {
            "cell_type": "code",
            "execution_count": 58,
            "metadata": {},
            "outputs": [
                {
                    "data": {
                        "text/html": "<div>\n<style scoped>\n    .dataframe tbody tr th:only-of-type {\n        vertical-align: middle;\n    }\n\n    .dataframe tbody tr th {\n        vertical-align: top;\n    }\n\n    .dataframe thead th {\n        text-align: right;\n    }\n</style>\n<table border=\"1\" class=\"dataframe\">\n  <thead>\n    <tr style=\"text-align: right;\">\n      <th></th>\n      <th>Principal</th>\n      <th>age</th>\n      <th>Gender</th>\n      <th>terms</th>\n      <th>weekend</th>\n      <th>Bechalor</th>\n      <th>High School or Below</th>\n      <th>college</th>\n    </tr>\n  </thead>\n  <tbody>\n    <tr>\n      <th>0</th>\n      <td>1000</td>\n      <td>50</td>\n      <td>1</td>\n      <td>30</td>\n      <td>0</td>\n      <td>1</td>\n      <td>0</td>\n      <td>0</td>\n    </tr>\n    <tr>\n      <th>1</th>\n      <td>300</td>\n      <td>35</td>\n      <td>0</td>\n      <td>7</td>\n      <td>0</td>\n      <td>0</td>\n      <td>0</td>\n      <td>0</td>\n    </tr>\n    <tr>\n      <th>2</th>\n      <td>1000</td>\n      <td>43</td>\n      <td>1</td>\n      <td>30</td>\n      <td>1</td>\n      <td>0</td>\n      <td>1</td>\n      <td>0</td>\n    </tr>\n    <tr>\n      <th>3</th>\n      <td>1000</td>\n      <td>26</td>\n      <td>0</td>\n      <td>30</td>\n      <td>1</td>\n      <td>0</td>\n      <td>0</td>\n      <td>1</td>\n    </tr>\n    <tr>\n      <th>4</th>\n      <td>800</td>\n      <td>29</td>\n      <td>0</td>\n      <td>15</td>\n      <td>1</td>\n      <td>1</td>\n      <td>0</td>\n      <td>0</td>\n    </tr>\n  </tbody>\n</table>\n</div>",
                        "text/plain": "   Principal  age  Gender  terms  weekend  Bechalor  High School or Below  \\\n0       1000   50       1     30        0         1                     0   \n1        300   35       0      7        0         0                     0   \n2       1000   43       1     30        1         0                     1   \n3       1000   26       0     30        1         0                     0   \n4        800   29       0     15        1         1                     0   \n\n   college  \n0        0  \n1        0  \n2        0  \n3        1  \n4        0  "
                    },
                    "execution_count": 58,
                    "metadata": {},
                    "output_type": "execute_result"
                }
            ],
            "source": "X_t = Feature\nX_t[0:5]"
        },
        {
            "cell_type": "code",
            "execution_count": 59,
            "metadata": {},
            "outputs": [
                {
                    "data": {
                        "text/plain": "array(['PAIDOFF', 'PAIDOFF', 'PAIDOFF', 'PAIDOFF', 'PAIDOFF'],\n      dtype=object)"
                    },
                    "execution_count": 59,
                    "metadata": {},
                    "output_type": "execute_result"
                }
            ],
            "source": "y_t = test_df['loan_status'].values\ny_t[0:5]"
        },
        {
            "cell_type": "code",
            "execution_count": 60,
            "metadata": {},
            "outputs": [
                {
                    "name": "stderr",
                    "output_type": "stream",
                    "text": "/opt/conda/envs/Python36/lib/python3.6/site-packages/sklearn/preprocessing/data.py:645: DataConversionWarning: Data with input dtype uint8, int64 were all converted to float64 by StandardScaler.\n  return self.partial_fit(X, y)\n/opt/conda/envs/Python36/lib/python3.6/site-packages/ipykernel/__main__.py:1: DataConversionWarning: Data with input dtype uint8, int64 were all converted to float64 by StandardScaler.\n  if __name__ == '__main__':\n"
                },
                {
                    "data": {
                        "text/plain": "array([[ 0.49362588,  3.05981865,  1.97714211,  0.92844966, -1.20604538,\n         2.39791576, -0.79772404, -0.86135677],\n       [-3.56269116,  0.53336288, -0.50578054, -1.70427745, -1.20604538,\n        -0.41702883, -0.79772404, -0.86135677],\n       [ 0.49362588,  1.88080596,  1.97714211,  0.92844966,  0.8291562 ,\n        -0.41702883,  1.25356634, -0.86135677],\n       [ 0.49362588, -0.98251057, -0.50578054,  0.92844966,  0.8291562 ,\n        -0.41702883, -0.79772404,  1.16095912],\n       [-0.66532184, -0.47721942, -0.50578054, -0.78854628,  0.8291562 ,\n         2.39791576, -0.79772404, -0.86135677]])"
                    },
                    "execution_count": 60,
                    "metadata": {},
                    "output_type": "execute_result"
                }
            ],
            "source": "X_t= preprocessing.StandardScaler().fit(X_t).transform(X_t)\nX_t[0:5]"
        },
        {
            "cell_type": "code",
            "execution_count": 61,
            "metadata": {},
            "outputs": [],
            "source": "knnf=f1_score(y_t,neighf.predict(X_t), average='weighted')\nknnj=jaccard_similarity_score(y_t,neighf.predict(X_t))"
        },
        {
            "cell_type": "code",
            "execution_count": 98,
            "metadata": {},
            "outputs": [],
            "source": "dtf=f1_score(y_t, decTreeff.predict(X_t), average='weighted')\ndtj=jaccard_similarity_score(y_t, decTreeff.predict(X_t))"
        },
        {
            "cell_type": "code",
            "execution_count": 99,
            "metadata": {},
            "outputs": [],
            "source": "svmf=f1_score(y_t, clf.predict(X_t), average='weighted')\nsvmj=jaccard_similarity_score(y_t, clf.predict(X_t))"
        },
        {
            "cell_type": "code",
            "execution_count": 100,
            "metadata": {},
            "outputs": [],
            "source": "lrf=f1_score(y_t, LR2.predict(X_t), average='weighted',labels=np.unique(LR2.predict(X_t)))\nlrj=jaccard_similarity_score(y_t, LR2.predict(X_t))"
        },
        {
            "cell_type": "code",
            "execution_count": 101,
            "metadata": {},
            "outputs": [],
            "source": "lrll=log_loss(y_t, LR2.predict_proba(X_t))"
        },
        {
            "cell_type": "code",
            "execution_count": 102,
            "metadata": {},
            "outputs": [
                {
                    "data": {
                        "image/png": "[encoded data removed]",
                        "text/plain": "<Figure size 432x288 with 1 Axes>"
                    },
                    "metadata": {
                        "needs_background": "light"
                    },
                    "output_type": "display_data"
                }
            ],
            "source": "from sklearn.metrics import jaccard_similarity_score\nfrom sklearn.metrics import f1_score\nimport matplotlib\ndata=[[\"KNN\",knnj,knnf,\"NA\"],\n     [\"Decision Tree\",dtj,dtf,\"NA\"],\n     [\"SVM\",svmj,svmf,\"NA\"],\n     [\"Logistic Regression\",lrj,lrf,lrll]]\ncolumns=(\"Algorithm\",\"Jaccard\",\"F1-score\",\"LogLoss\")\nfig, ax = plt.subplots() \nax.set_axis_off()\ntable = ax.table(cellText = data,colWidths=[0.7 for x in columns],colLabels = columns,colColours =[\"palegreen\"] * 10,cellLoc ='center',loc ='upper left')\ntable.set_fontsize(16)\ntable.scale(1,3)\nax.set_title('Report', \n             fontweight =\"bold\", fontsize=22) \n  \nplt.show() "
        },
        {
            "cell_type": "markdown",
            "metadata": {},
            "source": "# Report\nYou should be able to report the accuracy of the built model using different evaluation metrics:"
        },
        {
            "cell_type": "markdown",
            "metadata": {},
            "source": "| Algorithm          | Jaccard | F1-score | LogLoss |\n|--------------------|---------|----------|---------|\n| KNN                | ?       | ?        | NA      |\n| Decision Tree      | ?       | ?        | NA      |\n| SVM                | ?       | ?        | NA      |\n| LogisticRegression | ?       | ?        | ?       |"
        },
        {
            "cell_type": "markdown",
            "metadata": {
                "button": false,
                "new_sheet": false,
                "run_control": {
                    "read_only": false
                }
            },
            "source": "<h2>Want to learn more?</h2>\n\nIBM SPSS Modeler is a comprehensive analytics platform that has many machine learning algorithms. It has been designed to bring predictive intelligence to decisions made by individuals, by groups, by systems \u2013 by your enterprise as a whole. A free trial is available through this course, available here: <a href=\"http://cocl.us/ML0101EN-SPSSModeler\">SPSS Modeler</a>\n\nAlso, you can use Watson Studio to run these notebooks faster with bigger datasets. Watson Studio is IBM's leading cloud solution for data scientists, built by data scientists. With Jupyter notebooks, RStudio, Apache Spark and popular libraries pre-packaged in the cloud, Watson Studio enables data scientists to collaborate on their projects without having to install anything. Join the fast-growing community of Watson Studio users today with a free account at <a href=\"https://cocl.us/ML0101EN_DSX\">Watson Studio</a>\n\n<h3>Thanks for completing this lesson!</h3>\n\n<h4>Author:  <a href=\"https://ca.linkedin.com/in/saeedaghabozorgi\">Saeed Aghabozorgi</a></h4>\n<p><a href=\"https://ca.linkedin.com/in/saeedaghabozorgi\">Saeed Aghabozorgi</a>, PhD is a Data Scientist in IBM with a track record of developing enterprise level applications that substantially increases clients\u2019 ability to turn data into actionable knowledge. He is a researcher in data mining field and expert in developing advanced analytic methods like machine learning and statistical modelling on large datasets.</p>\n\n<hr>\n\n<p>Copyright &copy; 2018 <a href=\"https://cocl.us/DX0108EN_CC\">Cognitive Class</a>. This notebook and its source code are released under the terms of the <a href=\"https://bigdatauniversity.com/mit-license/\">MIT License</a>.</p>"
        }
    ],
    "metadata": {
        "kernelspec": {
            "display_name": "Python 3.6",
            "language": "python",
            "name": "python3"
        },
        "language_info": {
            "codemirror_mode": {
                "name": "ipython",
                "version": 3
            },
            "file_extension": ".py",
            "mimetype": "text/x-python",
            "name": "python",
            "nbconvert_exporter": "python",
            "pygments_lexer": "ipython3",
            "version": "3.6.9"
        }
    },
    "nbformat": 4,
    "nbformat_minor": 2
}